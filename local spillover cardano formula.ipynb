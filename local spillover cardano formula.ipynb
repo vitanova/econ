{
 "cells": [
  {
   "cell_type": "code",
   "execution_count": 59,
   "metadata": {
    "collapsed": true
   },
   "outputs": [],
   "source": [
    "a=0.4\n",
    "p=0.8\n",
    "import numpy as np\n",
    "\n",
    "def C(a):\n",
    "    return 2*a**2\n",
    "def aa(a, p):\n",
    "    return 1-p\n",
    "def b(a, p):\n",
    "    return 2*(1-p)+(1-C(a))*p/2\n",
    "def c(a, p):\n",
    "    return 1-p+(1-C(a))*p\n",
    "def d(a, p):\n",
    "    return -1.5*(1-C(a))*p\n",
    "def delta0(a, p):\n",
    "    return b(a, p)**2-3*aa(a, p)*c(a, p)\n",
    "def delta1(a, p):\n",
    "    return 2*b(a, p)**3-9*aa(a, p)*b(a, p)*c(a, p)+27*aa(a, p)**2*d(a, p)\n",
    "def C1(a, p):\n",
    "    temp1=(delta1(a, p)**2-4*delta0(a, p)**3)**0.5\n",
    "    temp2=(delta1(a, p)+temp1)/2\n",
    "    return temp2**(1/3)\n",
    "def x1(a, p):\n",
    "    return -(b(a, p)+C1(a, p)+delta0(a, p)/C1(a, p))/(3*aa(a, p))\n",
    "def C2(a, p):\n",
    "    return (-0.5+0.5*(-3)**0.5)*C1(a, p)\n",
    "def x2(a, p):\n",
    "    return -(b(a, p)+C2(a, p)+delta0(a, p)/C2(a, p))/(3*aa(a, p))\n",
    "def C3(a, p):\n",
    "    return (-0.5-0.5*(-3)**0.5)*C1(a, p)\n",
    "def x3(a, p):\n",
    "    return -(b(a, p)+C3(a, p)+delta0(a, p)/C3(a, p))/(3*aa(a, p))\n",
    "def cstage(a, p):\n",
    "    return np.asarray([x2(a, p).real])"
   ]
  },
  {
   "cell_type": "code",
   "execution_count": 60,
   "metadata": {
    "collapsed": false
   },
   "outputs": [
    {
     "data": {
      "text/plain": [
       "array([ 0.5787377])"
      ]
     },
     "execution_count": 60,
     "metadata": {},
     "output_type": "execute_result"
    }
   ],
   "source": [
    "cstage(0.3, 0.7)"
   ]
  },
  {
   "cell_type": "code",
   "execution_count": 55,
   "metadata": {
    "collapsed": false
   },
   "outputs": [
    {
     "data": {
      "text/plain": [
       "array([ 0.2])"
      ]
     },
     "execution_count": 55,
     "metadata": {},
     "output_type": "execute_result"
    }
   ],
   "source": [
    "np.asarray([0.2])"
   ]
  },
  {
   "cell_type": "code",
   "execution_count": 47,
   "metadata": {
    "collapsed": false
   },
   "outputs": [
    {
     "data": {
      "text/plain": [
       "array([ 0.82609247])"
      ]
     },
     "execution_count": 47,
     "metadata": {},
     "output_type": "execute_result"
    }
   ],
   "source": [
    "from scipy.optimize import fsolve\n",
    "def lhs(sigma):\n",
    "    temp1=1.5-(sigma+sigma**2/2)\n",
    "    temp2=sigma*(1+sigma)**2\n",
    "    return temp1/temp2\n",
    "#rhs of static condition\n",
    "def rhs(a, p):\n",
    "    temp1=1-p\n",
    "    temp2=(1-C(a))*p\n",
    "    return temp1/temp2\n",
    "#express critical stage as function of a and p\n",
    "def cstage(a, p):\n",
    "    rrhs=rhs(a, p)\n",
    "    def lhsminusrhs(sigma):\n",
    "        return lhs(sigma)-rrhs\n",
    "    return fsolve(lhsminusrhs, 0.5)\n",
    "cstage(0.2, 0.9)"
   ]
  },
  {
   "cell_type": "code",
   "execution_count": 48,
   "metadata": {
    "collapsed": false
   },
   "outputs": [
    {
     "name": "stdout",
     "output_type": "stream",
     "text": [
      "1000 loops, best of 3: 239 µs per loop\n"
     ]
    }
   ],
   "source": [
    "timeit cstage(0.2, 0.9)"
   ]
  },
  {
   "cell_type": "code",
   "execution_count": 49,
   "metadata": {
    "collapsed": false
   },
   "outputs": [
    {
     "name": "stdout",
     "output_type": "stream",
     "text": [
      "10000 loops, best of 3: 44.3 µs per loop\n"
     ]
    }
   ],
   "source": [
    "timeit x2(0.2, 0.9)"
   ]
  },
  {
   "cell_type": "code",
   "execution_count": 62,
   "metadata": {
    "collapsed": false
   },
   "outputs": [
    {
     "data": {
      "text/plain": [
       "0.49123074979370218"
      ]
     },
     "execution_count": 62,
     "metadata": {},
     "output_type": "execute_result"
    }
   ],
   "source": [
    "from scipy.optimize import fminbound\n",
    "#left hand side of static condition\n",
    "def lhs(sigma):\n",
    "    temp1=1.5-(sigma+sigma**2/2)\n",
    "    temp2=sigma*(1+sigma)**2\n",
    "    return temp1/temp2\n",
    "#rhs of static condition\n",
    "def rhs(a, p):\n",
    "    temp1=1-p\n",
    "    temp2=(1-C(a))*p\n",
    "    return temp1/temp2\n",
    "#express critical stage as function of a and p\n",
    "def cstage(a, p):\n",
    "    rrhs=rhs(a, p)\n",
    "    def lhsminusrhs(sigma):\n",
    "        return (lhs(sigma)-rrhs)**2\n",
    "    return fminbound(lhsminusrhs, 1e-6, 1)\n",
    "cstage(0.3, 0.6)"
   ]
  },
  {
   "cell_type": "code",
   "execution_count": null,
   "metadata": {
    "collapsed": true
   },
   "outputs": [],
   "source": []
  }
 ],
 "metadata": {
  "kernelspec": {
   "display_name": "Python 3",
   "language": "python",
   "name": "python3"
  },
  "language_info": {
   "codemirror_mode": {
    "name": "ipython",
    "version": 3
   },
   "file_extension": ".py",
   "mimetype": "text/x-python",
   "name": "python",
   "nbconvert_exporter": "python",
   "pygments_lexer": "ipython3",
   "version": "3.5.1"
  }
 },
 "nbformat": 4,
 "nbformat_minor": 0
}
