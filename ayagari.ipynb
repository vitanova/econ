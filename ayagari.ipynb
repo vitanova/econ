{
 "cells": [
  {
   "cell_type": "code",
   "execution_count": null,
   "metadata": {
    "collapsed": true
   },
   "outputs": [],
   "source": [
    "import numpy as np\n",
    "import quantecon as qe\n",
    "import matplotlib.pyplot as plt\n",
    "from aiyagari_household import Household\n",
    "from quantecon.markov import DiscreteDP\n",
    "\n",
    "# Example prices\n",
    "r = 0.03\n",
    "w = 0.956\n",
    "\n",
    "# Create an instance of Household \n",
    "am = Household(a_max=20, r=r, w=w)\n",
    "\n",
    "# Use the instance to build a discrete dynamic program\n",
    "am_ddp = DiscreteDP(am.R, am.Q, am.beta)\n",
    "\n",
    "# Solve using policy function iteration\n",
    "results = am_ddp.solve(method='policy_iteration')\n",
    "\n",
    "# Simplify names\n",
    "z_size, a_size = am.z_size, am.a_size\n",
    "z_vals, a_vals = am.z_vals, am.a_vals\n",
    "n = a_size * z_size\n",
    "\n",
    "# Get all optimal actions across the set of a indices with z fixed in each row\n",
    "a_star = np.empty((z_size, a_size))\n",
    "for s_i in range(n):\n",
    "    a_i = s_i // z_size\n",
    "    z_i = s_i % z_size\n",
    "    a_star[z_i, a_i] = a_vals[results.sigma[s_i]]\n",
    "\n",
    "fig, ax = plt.subplots(figsize=(9, 9))\n",
    "ax.plot(a_vals, a_vals, 'k--')# 45 degrees\n",
    "for i in range(z_size):\n",
    "    lb = r'$z = {}$'.format(z_vals[i], '.2f')\n",
    "    ax.plot(a_vals, a_star[i, :], lw=2, alpha=0.6, label=lb)\n",
    "    ax.set_xlabel('current assets')\n",
    "    ax.set_ylabel('next period assets')\n",
    "ax.legend(loc='upper left')\n",
    "\n",
    "plt.show()"
   ]
  },
  {
   "cell_type": "code",
   "execution_count": null,
   "metadata": {
    "collapsed": true
   },
   "outputs": [],
   "source": []
  }
 ],
 "metadata": {
  "kernelspec": {
   "display_name": "Python 3",
   "language": "python",
   "name": "python3"
  },
  "language_info": {
   "codemirror_mode": {
    "name": "ipython",
    "version": 3
   },
   "file_extension": ".py",
   "mimetype": "text/x-python",
   "name": "python",
   "nbconvert_exporter": "python",
   "pygments_lexer": "ipython3",
   "version": "3.5.1"
  }
 },
 "nbformat": 4,
 "nbformat_minor": 0
}
