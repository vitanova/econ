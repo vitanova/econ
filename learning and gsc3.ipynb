{
 "cells": [
  {
   "cell_type": "code",
   "execution_count": null,
   "metadata": {
    "collapsed": true
   },
   "outputs": [],
   "source": [
    "beta=0.96\n",
    "lambdah=0.41\n",
    "\n",
    "def invertstatic(w):\n",
    "    def t(w):\n",
    "        return 1/(2*w-1)**0.5\n",
    "    def f(low):\n",
    "        return (1-low+2*(low+beta-1))*t(w)**2-2*(low+beta-1)*np.exp(-lambdah)*t(w)\n",
    "    return fixed_point(f, 0.1)\n",
    "g1=gsc(0.95, lambdah)\n",
    "g2=gsc(0.97, lambdah)\n",
    "def invertdynamic1(w):\n",
    "    def f(low):\n",
    "        return g1.lnwage(low)-w\n",
    "    return fsolve(f, 0.1)\n",
    "def invertdynamic2(w):\n",
    "    def f(low):\n",
    "        return g2.lnwage(low)-w\n",
    "    return fsolve(f, 0.1)\n",
    "def dw(w):\n",
    "    return 2*invertstatic(w)-invertdynamic1(w)-invertdynamic2(w)\n",
    "wstar=float(fsolve(dw, 1.05))\n",
    "lowsouth=float(invertdynamic1(wstar))\n",
    "lownorth=float(invertdynamic2(wstar))\n",
    "learnsouth=float((1-0.95)/lowsouth)\n",
    "learnnorth=float((1-0.97)/lownorth)\n",
    "sstar=float(np.log(2*wstar-1)/(2*lambdah))\n",
    "print(wstar,  \"\\n\",\n",
    "      sstar, \"\\n\",\n",
    "      lownorth, \"\\n\",\n",
    "      learnnorth, \"\\n\",\n",
    "      lowsouth, \"\\n\",\n",
    "      learnsouth\n",
    "     )"
   ]
  }
 ],
 "metadata": {
  "kernelspec": {
   "display_name": "Python 3",
   "language": "python",
   "name": "python3"
  },
  "language_info": {
   "codemirror_mode": {
    "name": "ipython",
    "version": 3
   },
   "file_extension": ".py",
   "mimetype": "text/x-python",
   "name": "python",
   "nbconvert_exporter": "python",
   "pygments_lexer": "ipython3",
   "version": "3.5.1"
  }
 },
 "nbformat": 4,
 "nbformat_minor": 0
}
