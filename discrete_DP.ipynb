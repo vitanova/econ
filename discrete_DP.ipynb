{
 "cells": [
  {
   "cell_type": "code",
   "execution_count": 12,
   "metadata": {
    "collapsed": true
   },
   "outputs": [],
   "source": [
    "import numpy as np\n",
    "\n",
    "class SimpleOG(object):\n",
    "    \n",
    "    def __init__(self, B=10, M=5, alpha=0.5, beta=0.9):\n",
    "        \"\"\"\n",
    "        set up R, Q and beta, the three elemnets that define an instance of\n",
    "        discrete DP class\n",
    "        \"\"\"\n",
    "        \n",
    "        self.B, self.M, self.alpha, self.beta=B, M, alpha, beta\n",
    "        self.n=B+M+1\n",
    "        self.m=M+1\n",
    "        \n",
    "        self.R=np.empty((self.n, self.m))\n",
    "        self.Q=np.empty((self.n, self.m, self.n))\n",
    "        \n",
    "        self.populate_Q()\n",
    "        self.populate_R()\n",
    "        \n",
    "    def u(self, c):\n",
    "        return c**self.alpha\n",
    "\n",
    "    def populate_R(self):\n",
    "        \"\"\"\n",
    "        populate the R matrix, with R[s, a]=-np.inf for infeasible\n",
    "        state-action pairs\n",
    "        \"\"\"\n",
    "        for s in range(self.n):\n",
    "            for a in range(self.m):\n",
    "                self.R[s, a]=self.u(s-a) if a<=s else -np.inf\n",
    "\n",
    "    def  populate_Q(self):\n",
    "        \"\"\"\n",
    "        populate the Q matrix by setting\n",
    "\n",
    "            Q[s, a, s']=1/(1+B) if a <= s' <=a+B\n",
    "\n",
    "        and zero otherwise\n",
    "        \"\"\"\n",
    "\n",
    "        for a in range(self.m):\n",
    "            self.Q[:, a, a:(a+self.B+1)]=1.0/(self.B+1)"
   ]
  },
  {
   "cell_type": "code",
   "execution_count": 17,
   "metadata": {
    "collapsed": false
   },
   "outputs": [
    {
     "data": {
      "text/plain": [
       "'C:\\\\Users\\\\Administrator'"
      ]
     },
     "execution_count": 17,
     "metadata": {},
     "output_type": "execute_result"
    }
   ],
   "source": [
    "pwd"
   ]
  },
  {
   "cell_type": "code",
   "execution_count": null,
   "metadata": {
    "collapsed": true
   },
   "outputs": [],
   "source": []
  }
 ],
 "metadata": {
  "kernelspec": {
   "display_name": "Python 3",
   "language": "python",
   "name": "python3"
  },
  "language_info": {
   "codemirror_mode": {
    "name": "ipython",
    "version": 3
   },
   "file_extension": ".py",
   "mimetype": "text/x-python",
   "name": "python",
   "nbconvert_exporter": "python",
   "pygments_lexer": "ipython3",
   "version": "3.5.1"
  }
 },
 "nbformat": 4,
 "nbformat_minor": 0
}
