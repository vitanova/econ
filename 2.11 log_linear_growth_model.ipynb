{
 "cells": [
  {
   "cell_type": "code",
   "execution_count": 13,
   "metadata": {
    "collapsed": false
   },
   "outputs": [],
   "source": [
    "run optgrowth.ipynb"
   ]
  },
  {
   "cell_type": "code",
   "execution_count": 14,
   "metadata": {
    "collapsed": true
   },
   "outputs": [],
   "source": [
    "import numpy as np\n",
    "import matplotlib.pyplot as plt\n",
    "from quantecon import compute_fixed_point\n",
    "from joblib import Memory\n",
    "memory=Memory(cachedir='./joblib_cache')\n",
    "\n",
    "@memory.cache\n",
    "def compute_value_function_cached(grid, beta, alpha, shocks):\n",
    "    \"\"\"\n",
    "    compute the value function by iterating on the bellman operator.\n",
    "    the work is done by quantecon's compute_fixed_point function.\n",
    "    \"\"\"\n",
    "    Tw=np.empty(len(grid))\n",
    "    initial_w=5*np.log(grid)-25\n",
    "    \n",
    "    v_star=compute_fixed_point(bellman_operator,\n",
    "                              initial_w,\n",
    "                              1e-4,  #error_tol\n",
    "                              100,   #max_iter\n",
    "                              True, #verbose\n",
    "                              5,      #print_skip\n",
    "                              grid,\n",
    "                              beta,\n",
    "                              np.log,\n",
    "                              lambda k: k**alpha,\n",
    "                              shocks,\n",
    "                              Tw=Tw,\n",
    "                              compute_policy=False)\n",
    "    return v_star\n",
    "\n",
    "class LogLinearGrowthModel:\n",
    "    \"\"\"\n",
    "    stores parameters and computes solutions for the basic log utility/ cobb\n",
    "    douglas production growth models. shocks are lognormal.\n",
    "    \"\"\"\n",
    "    def __init__(self,\n",
    "                alpha=0.65,     #production parameter\n",
    "                beta=0.95,       #discount factor\n",
    "                mu=1,              #first parameter in lognorm(mu, sigma)\n",
    "                sigma=0.1,       #second parameter in lognorm(mu, sigma)\n",
    "                grid_max=8,\n",
    "                grid_size=150):\n",
    "        \n",
    "        self.alpha, self.beta, self.mu, self.sigma=alpha, beta, mu, sigma\n",
    "        self.grid=np.linspace(1e-6, grid_max,grid_size)\n",
    "        self.shocks=np.exp(mu+sigma*np.random.randn(250))\n",
    "        \n",
    "    def compute_value_function(self, show_point=False):\n",
    "        \"\"\"\n",
    "        calls compute_value_function_cashed and optionally adds a plot.\n",
    "        \"\"\"\n",
    "        v_star=compute_value_function_cached(self.grid,\n",
    "                                            self.beta,\n",
    "                                            self.alpha,\n",
    "                                            self.shocks)\n",
    "        if show_point:\n",
    "            fig, ax=plt.subplots()\n",
    "            ax.plot(self.grid,v_star, lw=2, alpha=0.6, label='value function')\n",
    "            ax.legend(loc='lower right')\n",
    "            plt.show()\n",
    "            \n",
    "        return v_star\n",
    "    \n",
    "    def compute_greedy(self, w=None, show_plot=False):\n",
    "        \"\"\"\n",
    "        compute the w-greedy policy on the grid points given w\n",
    "        (the value of the input function on grid points). if w is not\n",
    "        supplied, use the approximate optimal value function.\n",
    "        \"\"\"\n",
    "        if w is None:\n",
    "            w=self.compute_value_function()\n",
    "        \n",
    "        Tw, sigma=bellman_operator(w,\n",
    "                                  self.grid,\n",
    "                                  self.beta,\n",
    "                                  np.log,\n",
    "                                  lambda k: k**self.alpha,\n",
    "                                  self.shocks,\n",
    "                                  compute_policy=True)\n",
    "        \n",
    "        if show_plot:\n",
    "            fig, ax=plt.subplots()\n",
    "            ax.plot(self.grid, sigma, lw=2, alpha=0.6, label='approximate policy function')\n",
    "            cstar=(1-self.alpha*self.beta)*self.grid\n",
    "            ax.plot(self.grid, cstar, lw=2, alpha=0.6, label='true policy function')\n",
    "            ax.legend(loc='upper left')\n",
    "            plt.show()\n",
    "            \n",
    "        return sigma"
   ]
  },
  {
   "cell_type": "code",
   "execution_count": 15,
   "metadata": {
    "collapsed": false
   },
   "outputs": [
    {
     "name": "stdout",
     "output_type": "stream",
     "text": [
      "________________________________________________________________________________\n",
      "[Memory] Calling __main__-C%3A-Users-Administrator-__ipython-input__.compute_value_function_cached...\n",
      "compute_value_function_cached(array([  1.000000e-06, ...,   8.000000e+00]), 0.95, 0.65, array([ 2.742767, ...,  2.609467]))\n",
      "Iteration    Distance       Elapsed (seconds)\n",
      "---------------------------------------------\n",
      "5            7.796e+00      8.660e-01         \n",
      "10           5.863e+00      1.699e+00         \n",
      "15           4.413e+00      2.552e+00         \n",
      "20           3.321e+00      3.462e+00         \n",
      "25           2.499e+00      4.296e+00         \n",
      "30           1.880e+00      5.114e+00         \n",
      "35           1.414e+00      5.950e+00         \n",
      "40           1.064e+00      6.783e+00         \n",
      "45           8.000e-01      7.601e+00         \n",
      "50           6.016e-01      8.419e+00         \n",
      "55           4.523e-01      9.229e+00         \n",
      "60           3.400e-01      1.006e+01         \n",
      "65           2.555e-01      1.093e+01         \n",
      "70           1.920e-01      1.174e+01         \n",
      "75           1.443e-01      1.256e+01         \n",
      "80           1.084e-01      1.342e+01         \n",
      "85           8.138e-02      1.426e+01         \n",
      "90           6.111e-02      1.507e+01         \n",
      "95           4.588e-02      1.588e+01         \n",
      "100          3.443e-02      1.671e+01         \n",
      "___________________________________compute_value_function_cached - 16.6s, 0.3min\n"
     ]
    },
    {
     "data": {
      "image/png": "[encoded data removed]",
      "text/plain": [
       "<matplotlib.figure.Figure at 0x88c3d10>"
      ]
     },
     "metadata": {},
     "output_type": "display_data"
    },
    {
     "data": {
      "text/plain": [
       "array([  3.82027815e-07,   2.04628268e-02,   4.10953611e-02,\n",
       "         6.15609074e-02,   8.22023916e-02,   1.02873027e-01,\n",
       "         1.23389963e-01,   1.43948845e-01,   1.64467547e-01,\n",
       "         1.85263998e-01,   2.05652715e-01,   2.26331133e-01,\n",
       "         2.46799376e-01,   2.67537067e-01,   2.88076767e-01,\n",
       "         3.08559212e-01,   3.29113698e-01,   3.49963917e-01,\n",
       "         3.70497511e-01,   3.90954038e-01,   4.11714879e-01,\n",
       "         4.32307854e-01,   4.53059471e-01,   4.73519461e-01,\n",
       "         4.94335463e-01,   5.14721142e-01,   5.35503666e-01,\n",
       "         5.56224807e-01,   5.76765303e-01,   5.97570894e-01,\n",
       "         6.18306984e-01,   6.39004633e-01,   6.59560014e-01,\n",
       "         6.79932137e-01,   7.00620118e-01,   7.21674346e-01,\n",
       "         7.42426280e-01,   7.62979122e-01,   7.83604950e-01,\n",
       "         8.04339506e-01,   8.24886618e-01,   8.45531026e-01,\n",
       "         8.66353550e-01,   8.87248954e-01,   9.07715528e-01,\n",
       "         9.28346481e-01,   9.49093371e-01,   9.70118010e-01,\n",
       "         9.90668965e-01,   1.01133121e+00,   1.03243231e+00,\n",
       "         1.05308973e+00,   1.07387610e+00,   1.09432253e+00,\n",
       "         1.11532708e+00,   1.13621798e+00,   1.15708686e+00,\n",
       "         1.17776654e+00,   1.19853125e+00,   1.21952399e+00,\n",
       "         1.24025246e+00,   1.26096719e+00,   1.28217734e+00,\n",
       "         1.30312690e+00,   1.32423582e+00,   1.34475154e+00,\n",
       "         1.36604853e+00,   1.38676714e+00,   1.40768920e+00,\n",
       "         1.42869896e+00,   1.44974488e+00,   1.47075585e+00,\n",
       "         1.49186079e+00,   1.51254664e+00,   1.53384943e+00,\n",
       "         1.55475862e+00,   1.57638960e+00,   1.59718043e+00,\n",
       "         1.61829569e+00,   1.63951325e+00,   1.66081371e+00,\n",
       "         1.68189586e+00,   1.70322744e+00,   1.72451963e+00,\n",
       "         1.74572098e+00,   1.76712255e+00,   1.78859140e+00,\n",
       "         1.81000823e+00,   1.83161596e+00,   1.85287436e+00,\n",
       "         1.87410336e+00,   1.89651226e+00,   1.91789701e+00,\n",
       "         1.93973601e+00,   1.96114144e+00,   1.98309849e+00,\n",
       "         2.00509054e+00,   2.02696250e+00,   2.04930930e+00,\n",
       "         2.07121176e+00,   2.09278516e+00,   2.11553335e+00,\n",
       "         2.13771484e+00,   2.15986817e+00,   2.18196545e+00,\n",
       "         2.20441858e+00,   2.22711243e+00,   2.24940696e+00,\n",
       "         2.27209107e+00,   2.29480005e+00,   2.31742091e+00,\n",
       "         2.34574148e+00,   2.37262266e+00,   2.39640921e+00,\n",
       "         2.41860600e+00,   2.44129114e+00,   2.46865744e+00,\n",
       "         2.50363331e+00,   2.52759460e+00,   2.55597670e+00,\n",
       "         2.57985743e+00,   2.60865294e+00,   2.63282664e+00,\n",
       "         2.65655953e+00,   2.67999530e+00,   2.71549249e+00,\n",
       "         2.73972974e+00,   2.76942425e+00,   2.79388238e+00,\n",
       "         2.81714123e+00,   2.85455601e+00,   2.87845532e+00,\n",
       "         2.90920682e+00,   2.94163582e+00,   2.98456490e+00,\n",
       "         3.00906543e+00,   3.05348154e+00,   3.07866149e+00,\n",
       "         3.11048513e+00,   3.14924618e+00,   3.18198859e+00,\n",
       "         3.21908642e+00,   3.25805384e+00,   3.28716368e+00,\n",
       "         3.31214755e+00,   3.33896105e+00,   3.37168776e+00,\n",
       "         3.41169562e+00,   3.45375581e+00,   3.48677327e+00])"
      ]
     },
     "execution_count": 15,
     "metadata": {},
     "output_type": "execute_result"
    }
   ],
   "source": [
    "%matplotlib inline\n",
    "lg=LogLinearGrowthModel()\n",
    "lg.compute_greedy(show_plot=True)"
   ]
  },
  {
   "cell_type": "code",
   "execution_count": null,
   "metadata": {
    "collapsed": true
   },
   "outputs": [],
   "source": []
  }
 ],
 "metadata": {
  "kernelspec": {
   "display_name": "Python 3",
   "language": "python",
   "name": "python3"
  },
  "language_info": {
   "codemirror_mode": {
    "name": "ipython",
    "version": 3
   },
   "file_extension": ".py",
   "mimetype": "text/x-python",
   "name": "python",
   "nbconvert_exporter": "python",
   "pygments_lexer": "ipython3",
   "version": "3.5.1"
  }
 },
 "nbformat": 4,
 "nbformat_minor": 0
}
