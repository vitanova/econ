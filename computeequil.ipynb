{
 "cells": [
  {
   "cell_type": "code",
   "execution_count": 140,
   "metadata": {
    "collapsed": false,
    "scrolled": true
   },
   "outputs": [],
   "source": [
    "%matplotlib inline\n",
    "import numpy as np\n",
    "import matplotlib.pyplot as plt\n",
    "from scipy.optimize import fsolve\n",
    "import scipy\n",
    "from scipy.optimize import newton\n",
    "from scipy.optimize import fixed_point\n",
    "\n",
    "\"\"\"\n",
    "use beta=0.95, 0.97\n",
    "lambdah=0.41, 0.45, 0.49\n",
    "\"\"\"\n",
    "\n",
    "\n",
    "class gsc(object):\n",
    "    def __init__(self, beta, lambdah):\n",
    "        self.beta=beta\n",
    "        self.lambdah=lambdah\n",
    "        \n",
    "    def lnwage(self, low):\n",
    "        beta=self.beta\n",
    "        temp1=(1-beta)/((1-low)*beta*(low+beta-1))\n",
    "        temp2=(low+beta-1)/low\n",
    "        return np.exp(temp1)*temp2\n",
    "\n",
    "    \"\"\"\n",
    "    high=1-low\n",
    "    llow=low+beta-1\n",
    "    \"\"\"\n",
    "    def stage(self, low):\n",
    "        beta=self.beta\n",
    "        lambdah=self.lambdah\n",
    "        temp1=(low+beta-1)*np.exp(-lambdah)\n",
    "        temp2=np.sqrt(temp1**2+(1-low)*(1-low+2*(low+beta-1)))\n",
    "        temp3=(temp1+temp2)/(1-low+2*(low+beta-1))\n",
    "        return -np.log(temp3)/lambdah\n",
    "\n",
    "    def wage(self, low):\n",
    "        lambdah=self.lambdah\n",
    "        return (np.exp(2*lambdah*self.stage(low))+1)/2\n",
    "\n",
    "\n",
    "    def dwage(self, low):\n",
    "        return self.lnwage(low)-self.wage(low)\n",
    "    \n",
    "    def nofriction(self):\n",
    "        beta=self.beta\n",
    "        lambdah=self.lambdah\n",
    "        full_low1=fsolve(self.dwage, 0.3)\n",
    "        full_wage1=wage(full_low1)\n",
    "        full_stage1=stage(full_low1)\n",
    "        full_learn1=(1-beta)/full_low1\n",
    "        print(\"full wagehigh={}\".format(full_wage1),\"\\n\"\n",
    "              \"full critical stage={}\".format(full_stage1), \"\\n\"\n",
    "             \"full low skill={}\".format(full_low1), \"\\n\"\n",
    "             \"full learning intensity={}\".format(full_learn1),\n",
    "             \"\\n\")\n",
    "\n",
    "        full_low2=fsolve(self.dwage, 0.98)\n",
    "        full_wage2=wage(full_low2)\n",
    "        full_stage2=stage(full_low2)\n",
    "        full_learn2=(1-beta)/full_low2\n",
    "        print(\"full wagelow={}\".format(full_wage2),\"\\n\"\n",
    "              \"full critical stage={}\".format(full_stage2), \"\\n\"\n",
    "             \"full low skill={}\".format(full_low2), \"\\n\"\n",
    "             \"full learning intensity={}\".format(full_learn2),\n",
    "             \"\\n\")\n",
    "   \n",
    "    def friction(self):\n",
    "        beta=self.beta\n",
    "        lambdah=self.lambdah\n",
    "        def g(w):\n",
    "            def f(x):\n",
    "                return self.lnwage(x)-w\n",
    "            return (fsolve(f, 0.1), fsolve(f, 0.8))\n",
    "        def low(w):\n",
    "            return (g(w)[0]+g(w)[1])/2\n",
    "        def newwage(w):\n",
    "            return self.wage(low(w))\n",
    "        equi_wage=fixed_point(newwage, 1.16)\n",
    "        equi_lownorth, equi_lowsouth=g(equi_wage)\n",
    "        equi_stage=self.stage(low(equi_wage))\n",
    "        equi_learnsouth=(1-beta)/equi_lowsouth\n",
    "        equi_learnnorth=(1-beta)/equi_lownorth\n",
    "        print(\"global wage={}\".format(equi_wage),\"\\n\"\n",
    "              \"global critical stage={}\".format(equi_stage), \"\\n\"\n",
    "             \"north low skill={}\".format(equi_lownorth), \"\\n\"\n",
    "              \"north learning intensity={}\".format(equi_learnnorth), \"\\n\"\n",
    "             \"south low skill={}\".format(equi_lowsouth), \"\\n\"\n",
    "             \"south learning intensity={}\".format(equi_learnsouth))"
   ]
  },
  {
   "cell_type": "code",
   "execution_count": 142,
   "metadata": {
    "collapsed": false
   },
   "outputs": [
    {
     "name": "stdout",
     "output_type": "stream",
     "text": [
      "full wagehigh=[ 1.09600839] \n",
      "full critical stage=[ 0.21420323] \n",
      "full low skill=[ 0.2807231] \n",
      "full learning intensity=[ 0.14248917] \n",
      "\n",
      "full wagelow=[ 1.49261469] \n",
      "full critical stage=[ 0.83626155] \n",
      "full low skill=[ 0.88703829] \n",
      "full learning intensity=[ 0.04509388] \n",
      "\n",
      "global wage=[ 1.1469694] \n",
      "global critical stage=[ 0.32634355] \n",
      "north low skill=[ 0.14853479] \n",
      "north learning intensity=[ 0.26929717] \n",
      "south low skill=[ 0.66541242] \n",
      "south learning intensity=[ 0.06011309]\n"
     ]
    }
   ],
   "source": [
    "g1=gsc(0.96, 0.4)\n",
    "g1.nofriction()\n",
    "g1.friction()"
   ]
  },
  {
   "cell_type": "code",
   "execution_count": null,
   "metadata": {
    "collapsed": true
   },
   "outputs": [],
   "source": []
  }
 ],
 "metadata": {
  "kernelspec": {
   "display_name": "Python 3",
   "language": "python",
   "name": "python3"
  },
  "language_info": {
   "codemirror_mode": {
    "name": "ipython",
    "version": 3
   },
   "file_extension": ".py",
   "mimetype": "text/x-python",
   "name": "python",
   "nbconvert_exporter": "python",
   "pygments_lexer": "ipython3",
   "version": "3.5.1"
  }
 },
 "nbformat": 4,
 "nbformat_minor": 0
}
