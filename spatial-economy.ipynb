{
 "cells": [
  {
   "cell_type": "code",
   "execution_count": 96,
   "metadata": {
    "collapsed": false
   },
   "outputs": [],
   "source": [
    "%matplotlib inline\n",
    "\n",
    "import matplotlib.pyplot as plt\n",
    "\n",
    "class core_periphery:\n",
    "    \n",
    "    def __init__(self, mu, lamda, sigma, T, w, error):\n",
    "        self.mu, self.lamda, self.sigma, self.T, self.error=mu, lamda, sigma, T, error\n",
    "        self.w=w\n",
    "    \n",
    "    for i in range(2):\n",
    "        def Y(self,i):\n",
    "            return self.mu*(i+self.lamda*(-1)**i)*self.w[i]+(1-self.mu)/2\n",
    "        \n",
    "        def g(self,i):\n",
    "            return (i+self.lamda*(-1)**i)*(self.w[i])**(1-self.sigma)\n",
    "        def h(self,i):\n",
    "            return (1-i+self.lamda*(-1)**(1-i))*(self.w[i]*self.T)**(1-self.sigma)\n",
    "        def G(self,i):\n",
    "            return (self.g(i)+self.h(i))**(1/(1-self.sigma))\n",
    "        \n",
    "        def l(self,i):\n",
    "            return self.Y(i)*(self.G(i))**(self.sigma-1)\n",
    "        def m(self,i):\n",
    "            return self.Y(1-i)*(self.G(1-i)/self.T)**(self.sigma-1)\n",
    "        def wage(self,i):\n",
    "            return (self.l(i)+self.mu(i))**(1/self.sigma)\n",
    "        \n",
    "        def omiga(self,i):\n",
    "            return self.w[i]*self.G(i)**(-self.mu)\n",
    "        \n",
    "def enough(self):\n",
    "    "
   ]
  },
  {
   "cell_type": "code",
   "execution_count": 97,
   "metadata": {
    "collapsed": true
   },
   "outputs": [],
   "source": [
    "param=0.4, 0.5, 5, 2.1, [1, 1.2]\n",
    "cp=core_periphery(*param)"
   ]
  },
  {
   "cell_type": "code",
   "execution_count": 98,
   "metadata": {
    "collapsed": false
   },
   "outputs": [
    {
     "data": {
      "text/plain": [
       "1.0461243865748944"
      ]
     },
     "execution_count": 98,
     "metadata": {},
     "output_type": "execute_result"
    }
   ],
   "source": [
    "cp.omiga(1)"
   ]
  },
  {
   "cell_type": "code",
   "execution_count": 19,
   "metadata": {
    "collapsed": false
   },
   "outputs": [
    {
     "data": {
      "text/plain": [
       "<bound method core_periphery.aa of <__main__.core_periphery object at 0x04D2DAF0>>"
      ]
     },
     "execution_count": 19,
     "metadata": {},
     "output_type": "execute_result"
    }
   ],
   "source": [
    "cp.aa"
   ]
  },
  {
   "cell_type": "code",
   "execution_count": 20,
   "metadata": {
    "collapsed": false
   },
   "outputs": [
    {
     "data": {
      "text/plain": [
       "0.4"
      ]
     },
     "execution_count": 20,
     "metadata": {},
     "output_type": "execute_result"
    }
   ],
   "source": [
    "cp.aa()"
   ]
  },
  {
   "cell_type": "code",
   "execution_count": 88,
   "metadata": {
    "collapsed": false
   },
   "outputs": [],
   "source": [
    "\n",
    "class trythis:\n",
    "    def __init__(self,a,b):\n",
    "        self.a, self.b=a, b\n",
    "    def haha(self):\n",
    "        return self.b\n",
    "    for i in range(2): \n",
    "        def h(self,i):\n",
    "            return i+self.a\n",
    "        def g(self,i):\n",
    "            return i**2+self.b*(1-i)"
   ]
  },
  {
   "cell_type": "code",
   "execution_count": 89,
   "metadata": {
    "collapsed": false
   },
   "outputs": [],
   "source": [
    "param=1, 2\n",
    "tt=trythis(*param)"
   ]
  },
  {
   "cell_type": "code",
   "execution_count": 92,
   "metadata": {
    "collapsed": false
   },
   "outputs": [
    {
     "data": {
      "text/plain": [
       "2"
      ]
     },
     "execution_count": 92,
     "metadata": {},
     "output_type": "execute_result"
    }
   ],
   "source": [
    "tt.g(2)"
   ]
  },
  {
   "cell_type": "code",
   "execution_count": 62,
   "metadata": {
    "collapsed": false
   },
   "outputs": [
    {
     "data": {
      "text/plain": [
       "6"
      ]
     },
     "execution_count": 62,
     "metadata": {},
     "output_type": "execute_result"
    }
   ],
   "source": [
    "h(2,2)"
   ]
  },
  {
   "cell_type": "code",
   "execution_count": null,
   "metadata": {
    "collapsed": true
   },
   "outputs": [],
   "source": []
  }
 ],
 "metadata": {
  "kernelspec": {
   "display_name": "Python 3",
   "language": "python",
   "name": "python3"
  },
  "language_info": {
   "codemirror_mode": {
    "name": "ipython",
    "version": 3
   },
   "file_extension": ".py",
   "mimetype": "text/x-python",
   "name": "python",
   "nbconvert_exporter": "python",
   "pygments_lexer": "ipython3",
   "version": "3.5.1"
  }
 },
 "nbformat": 4,
 "nbformat_minor": 0
}
