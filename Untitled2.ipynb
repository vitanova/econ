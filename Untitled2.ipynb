{
 "cells": [
  {
   "cell_type": "code",
   "execution_count": 5,
   "metadata": {
    "collapsed": true
   },
   "outputs": [],
   "source": [
    "import numpy as np\n",
    "import matplotlib.pyplot as plt\n",
    "\n",
    "\"\"\"\n",
    "use beta=0.97, 0.98\n",
    "lambdah=0.1, 0.15, 0.25\n",
    "\"\"\"\n",
    "\n",
    "beta=0.97\n",
    "lambdah=0.25\n",
    "def lnwage(low):\n",
    "    temp1=(1-beta)/((1-low)*beta*(low+beta-1))\n",
    "    temp2=np.log(low+beta-1)-np.log(low)\n",
    "    return np.exp(temp1+temp2)\n",
    "\n",
    "def wage(low):\n",
    "    temp1=np.exp(-lambdah)*(low+beta-1)\n",
    "    temp2=np.sqrt(temp1**2+(1-low)*(2*beta-low-1))\n",
    "    temp3=((-temp1+temp2)/(1-low))**2\n",
    "    return 1+(1/temp3-1)/2\n",
    "\n",
    "Lambdah=[0.1, 0.15, 0.25]\n",
    "Beta=[0.97, 0.98]\n",
    "num_rows, num_cols=3, 2\n",
    "fig, axes=plt.subplots(num_rows, num_cols, figsize=(9,18))\n",
    "for i in range(num_rows):\n",
    "    for j in range(num_cols):\n",
    "        lambdah=Lambdah[i]\n",
    "        beta=Beta[j]\n",
    "        Low=np.linspace(0.06, 0.3, 100)\n",
    "        W1=[]\n",
    "        W2=[]\n",
    "        for low in Low:\n",
    "            w1=lnwage(low)\n",
    "            w2=wage(low)\n",
    "            W1.append(w1)\n",
    "            W2.append(w2)\n",
    "        axes[i, j].plot(Low, W1, lw=2, alpha=0.6, label='dynamic')\n",
    "        axes[i, j].plot(Low, W2, lw=2, alpha=0.6, label='static')\n",
    "        axes[i, j].legend(loc='upper left')\n",
    "        t=r'$\\beta={}, \\lambda_h={}$'.format(beta, lambdah)\n",
    "        axes[i, j].set_title(t)\n",
    "        axes[i, j].set_xlabel(r'$L_l$', fontsize=14)\n",
    "        axes[i, j].set_ylabel(r'$w_h/w_l$', fontsize=16)\n",
    "        axes[i, j].set_ylim(1, 1.7)\n",
    "plt.show()"
   ]
  },
  {
   "cell_type": "code",
   "execution_count": null,
   "metadata": {
    "collapsed": true
   },
   "outputs": [],
   "source": []
  }
 ],
 "metadata": {
  "kernelspec": {
   "display_name": "Python 3",
   "language": "python",
   "name": "python3"
  },
  "language_info": {
   "codemirror_mode": {
    "name": "ipython",
    "version": 3
   },
   "file_extension": ".py",
   "mimetype": "text/x-python",
   "name": "python",
   "nbconvert_exporter": "python",
   "pygments_lexer": "ipython3",
   "version": "3.5.1"
  }
 },
 "nbformat": 4,
 "nbformat_minor": 0
}
