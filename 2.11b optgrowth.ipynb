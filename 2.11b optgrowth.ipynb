{
 "cells": [
  {
   "cell_type": "code",
   "execution_count": null,
   "metadata": {
    "collapsed": true
   },
   "outputs": [],
   "source": [
    "import numpy as np\n",
    "from scipy.optimize import fminbound\n",
    "from scipy import interp\n",
    "\n",
    "def bellman_operator(w, grid, beta, u, f, shocks, Tw=None, compute_policy=0):\n",
    "    \"\"\"\n",
    "    the approximate bellman operator, which computes and returns the\n",
    "    updated value function Tw on the grid points. an array to store\n",
    "    the new set of values Tw is optionally supplied (to avoid having to\n",
    "    allocate new arrays at each iteration). if supplied, any existing data in\n",
    "    Tw will be overwritten\n",
    "    \n",
    "    parameters\n",
    "    ---------\n",
    "    w: array_like(float, ndim=1)\n",
    "        the value of the input function on different grid points\n",
    "    grid: array_like(float, ndim=1)     \n",
    "        the set of grid points\n",
    "    u: function\n",
    "        the utility function\n",
    "    f: function\n",
    "        the production function\n",
    "    shocks: numpy array\n",
    "        an array of draws from the shock, fro monte carlo integration(to\n",
    "        compute expectations)\n",
    "    beta: scalar\n",
    "        the discount factor\n",
    "    Tw: array_like(float, ndim=1) optional(default=None)\n",
    "        array to write output values to\n",
    "    compute_policy: Boolean, optional(default=False)\n",
    "        whether or not to compute policy function\n",
    "    \"\"\"\n",
    "    \n",
    "    #===apply linear interpolation to w===#\n",
    "    w_func=lambda x: interp(x, grid, w)\n",
    "    \n",
    "    #===initialize Tw if necessary==#\n",
    "    if Tw is None:\n",
    "        Tw=np.empty(len(w))\n",
    "        \n",
    "    if compute_policy:\n",
    "        sigma=np.empty(len(w))\n",
    "    \n",
    "    #==set Tw[i]=max_c{u(c)+beta E w(f(y-c) z)}==#\n",
    "    for i, y in enumerate(grid):\n",
    "        def objective(c):\n",
    "            return -u(c)-beta*np.mean(w_func(f(y-c)*shocks))\n",
    "        c_star=fminbound(objective, 1e-10, y)\n",
    "        if compute_policy:\n",
    "            sigma[i]=c_star\n",
    "        Tw[i]=-objective(c_star)\n",
    "        \n",
    "    if compute_policy:\n",
    "        return Tw, sigma\n",
    "    else:\n",
    "        return Tw"
   ]
  }
 ],
 "metadata": {
  "kernelspec": {
   "display_name": "Python 3",
   "language": "python",
   "name": "python3"
  },
  "language_info": {
   "codemirror_mode": {
    "name": "ipython",
    "version": 3
   },
   "file_extension": ".py",
   "mimetype": "text/x-python",
   "name": "python",
   "nbconvert_exporter": "python",
   "pygments_lexer": "ipython3",
   "version": "3.5.1"
  }
 },
 "nbformat": 4,
 "nbformat_minor": 0
}
