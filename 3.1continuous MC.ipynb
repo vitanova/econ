{
 "cells": [
  {
   "cell_type": "code",
   "execution_count": null,
   "metadata": {
    "collapsed": true
   },
   "outputs": [],
   "source": [
    "from textwrap import dedent\n",
    "import numpy as np\n",
    "\n",
    "class LAE(object):\n",
    "    \n",
    "    def __init__(self, p, X):\n",
    "        X=X.flatten()\n",
    "        n=len(X)\n",
    "        self.p, self.X=p, X.reshape((n,1))\n",
    "        \n",
    "    def __repr__(self):\n",
    "        return self.__str__()\n",
    "    \n",
    "    def __str__(self):\n",
    "        m=\"\"\"\\\n",
    "        Look ahead estimator\n",
    "        - number of observations:{n}\n",
    "        \"\"\"\n",
    "        return dedent(m.format(n=self.X.size))\n",
    "    \n",
    "    def __call__(self, y):\n",
    "        k=len(y)\n",
    "        v=self.p(self.X, y.reshape((1, k)))\n",
    "        psi_vals=np.mean(v, axis=0)\n",
    "        \n",
    "        return psi_vals.flatten()"
   ]
  }
 ],
 "metadata": {
  "kernelspec": {
   "display_name": "Python 3",
   "language": "python",
   "name": "python3"
  },
  "language_info": {
   "codemirror_mode": {
    "name": "ipython",
    "version": 3
   },
   "file_extension": ".py",
   "mimetype": "text/x-python",
   "name": "python",
   "nbconvert_exporter": "python",
   "pygments_lexer": "ipython3",
   "version": "3.5.1"
  }
 },
 "nbformat": 4,
 "nbformat_minor": 0
}
