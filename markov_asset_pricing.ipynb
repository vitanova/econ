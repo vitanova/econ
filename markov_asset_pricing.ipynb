{
 "cells": [
  {
   "cell_type": "code",
   "execution_count": 11,
   "metadata": {
    "collapsed": false
   },
   "outputs": [],
   "source": [
    "\"\"\"\n",
    "\n",
    "asset_pricing from quant-econ python\n",
    "computes asset prices in an endowment economy when the endowment obeys\n",
    "geometric growth driven by a finite state Markov chain. the transition\n",
    "matrix of the markov chain is P, and the set of states is s. the\n",
    "discount factor is beta, and gamma is the coefficient of relative risk\n",
    "aversion in the household's utility function.\n",
    "\n",
    "\"\"\"\n",
    "from textwrap import dedent\n",
    "import numpy as np\n",
    "from numpy.linalg import solve\n",
    "\n",
    "class AssetPrices(object):\n",
    "    r\"\"\"\n",
    "    a class to compute asset prices when the endowment follows a finite\n",
    "    markov chain.\n",
    "    \n",
    "    parameters\n",
    "    ----------\n",
    "    beta: scalar, float\n",
    "        discount factor\n",
    "    P: array_like(float)\n",
    "        tansition matrix\n",
    "    s: array_like(float)\n",
    "        growth rate of consumption\n",
    "    gamma: scalar(float)\n",
    "        coefficient of risk aversion\n",
    "        \n",
    "    attributes\n",
    "    ----------\n",
    "    beta, P, s, gamma: see aprameters\n",
    "    n: scalar(int)\n",
    "        the number of rows in P\n",
    "    \n",
    "    examples\n",
    "    ---------\n",
    "    omitted\n",
    "    \"\"\"\n",
    "    def __init__(self, beta, P, s, gamma):\n",
    "        self.beta, self.gamma=beta, gamma\n",
    "        self.P, self.s=P, s\n",
    "        self.n=self.P.shape[0]\n",
    "        \n",
    "    def __repr__(self):\n",
    "        m=\"AssetPrices(beta={b:g}, P='{n:g} by {n:g}', s={s}, gamma={g:g})\"\n",
    "        return m.format(b=self.beta, n=self.P.shape[0], s=self.s, g=self.gamma)\n",
    "    \n",
    "    def __str__(self):\n",
    "        m=\"\"\"\\\n",
    "        AssetPrices(Merha and Prescott, 1985):\n",
    "            -beta(discount factor):{b:g}\n",
    "            -P(transition matrix): {n:g} by {n:g}\n",
    "            -s(growth rate of consumption):{s:s}\n",
    "            -gamma(coefficient of risk aversion):{g:g}\n",
    "            \"\"\"\n",
    "        \n",
    "        return dedent(m.format(b=self.beta, n=self.P.shape[0], s=repr(self.s), \n",
    "                              g=self.gamma))\n",
    "    \n",
    "    @property\n",
    "    def P_tilde(self):\n",
    "        P, s, gamma=self.P, self.s, self.gamma\n",
    "        return P*s**(1.0-gamma)#using broadcasting\n",
    "    \n",
    "    @property\n",
    "    def P_check(self):\n",
    "        P, s, gamma=self.P, self.s, self.gamma\n",
    "        return P*s**(-gamma)#using broadcasting\n",
    "    \n",
    "    def tree_price(self):\n",
    "        \"\"\"\n",
    "        computes the function v such that the price of the lucas tree is\n",
    "        v(lambda)C_t\n",
    "        \n",
    "        returns\n",
    "        ----------\n",
    "        v: array_like(float)\n",
    "            lucas tree prices\n",
    "            \n",
    "        \"\"\"\n",
    "        \n",
    "        #==simplify names==#\n",
    "        beta=self.beta\n",
    "        \n",
    "        #==compute v==#\n",
    "        P_tilde=self.P_tilde\n",
    "        I=np.identity(self.n)\n",
    "        O=np.ones(self.n)\n",
    "        v=beta*solve(I-beta*P_tilde, P_tilde.dot(O))\n",
    "        \n",
    "        return v\n",
    "    \n",
    "    def consol_price(self, zeta):\n",
    "        \"\"\"\n",
    "        computes price of a consol bond with payoff zeta\n",
    "        \n",
    "        patameters\n",
    "        ----------\n",
    "        zeta: scalar(float)\n",
    "            coupon of the consol\n",
    "        \n",
    "        returns\n",
    "        ----------\n",
    "        p_bar: array_like(float)\n",
    "            consol bond prices\n",
    "            \n",
    "        \"\"\"\n",
    "        #==simplify names==#\n",
    "        beta=self.beta\n",
    "        \n",
    "        #==compute price==#\n",
    "        P_check=self.P_check\n",
    "        I=np.identity(self.n)\n",
    "        O=np.ones(self.n)\n",
    "        p_bar=beta*solve(I-beta*P_check, P_check.dot(zeta*O))\n",
    "        \n",
    "        return p_bar\n",
    "    \n",
    "    def call_option(self, zeta, p_s, T=[], epsilon=1e-8):\n",
    "        \"\"\"\n",
    "        computes price of a call option on a consol bond, both finite\n",
    "        and infinite horizon\n",
    "        \n",
    "        parameters\n",
    "        ----------\n",
    "        zeta: scalar(float)\n",
    "            coupon of the consol\n",
    "            \n",
    "        p_s: scalar(float)\n",
    "            strike price\n",
    "        \n",
    "        T: iterable(integers)\n",
    "            length of option in the finite horizon case\n",
    "        \n",
    "        epsilon: scalar(float), optional(default=1e-8)\n",
    "            tolerance for infinite horizon problem\n",
    "            \n",
    "        returns\n",
    "        ----------\n",
    "        w_bar: array_like(float)\n",
    "            infinite horizon call option prices\n",
    "            \n",
    "        w_bars: dict\n",
    "            a dictionary of key-value pairs {t:vec}; where t is one of\n",
    "            the dates in the list T and vec is the option prices at that\n",
    "            date\n",
    "        \"\"\"\n",
    "        \n",
    "        #==simplify names, initialize variables==#\n",
    "        beta=self.beta\n",
    "        P_check=self.P_check\n",
    "        \n",
    "        #==compute consol price==#\n",
    "        v_bar=self.consol_price(zeta)\n",
    "        \n",
    "        #==compute option price==#\n",
    "        w_bar=np.zeros(self.n)\n",
    "        error=epsilon+1\n",
    "        t=0\n",
    "        w_bar= {}\n",
    "        while error>epsilon:\n",
    "            if t in T:\n",
    "                w_bars[t]=w_bar\n",
    "                \n",
    "            #==maximize across columns==#\n",
    "            to_stack = (beta*P_check.dot(w_bar), v_bar-p_s)\n",
    "            w_bar_new=np.amax(np.vstack(to_stack), axis=0)\n",
    "            \n",
    "            #==find maximal difference of each componet==#\n",
    "            error=np.amax(np.abs(w_bar-w_bar_new))\n",
    "            \n",
    "            #==update==#\n",
    "            w_bar=w_bar_new\n",
    "            t+=1\n",
    "            \n",
    "        return w_bar, w_bars"
   ]
  },
  {
   "cell_type": "code",
   "execution_count": 4,
   "metadata": {
    "collapsed": false,
    "scrolled": true
   },
   "outputs": [
    {
     "name": "stdout",
     "output_type": "stream",
     "text": [
      "lucas tree prices: [ 12.72221763  14.72515002  17.57142236  21.93570661  29.47401578]\n"
     ]
    }
   ],
   "source": [
    "n=5\n",
    "P=0.0125*np.ones((n,n))\n",
    "P+=np.diag(0.95-0.0125*np.ones(5))\n",
    "s=np.array([1.05, 1.025, 1.0, 0.975, 0.95])\n",
    "gamma=2.0\n",
    "beta=0.94\n",
    "ap=AssetPrices(beta, P, s, gamma)\n",
    "zeta=1.0\n",
    "v=ap.tree_price()\n",
    "print(\"lucas tree prices: %s\" %v)"
   ]
  },
  {
   "cell_type": "code",
   "execution_count": 5,
   "metadata": {
    "collapsed": false
   },
   "outputs": [
    {
     "name": "stdout",
     "output_type": "stream",
     "text": [
      "consol bond prices: [  87.56860139  109.25108965  148.67554548  242.55144082  753.87100476]\n"
     ]
    }
   ],
   "source": [
    "v_consol=ap.consol_price(zeta)\n",
    "print(\"consol bond prices: %s\" %v_consol)"
   ]
  },
  {
   "cell_type": "code",
   "execution_count": 12,
   "metadata": {
    "collapsed": false,
    "scrolled": false
   },
   "outputs": [
    {
     "ename": "TypeError",
     "evalue": "unsupported operand type(s) for *: 'float' and 'dict'",
     "output_type": "error",
     "traceback": [
      "\u001b[1;31m---------------------------------------------------------------------------\u001b[0m",
      "\u001b[1;31mTypeError\u001b[0m                                 Traceback (most recent call last)",
      "\u001b[1;32m<ipython-input-12-8601b61f88e2>\u001b[0m in \u001b[0;36m<module>\u001b[1;34m()\u001b[0m\n\u001b[0;32m      1\u001b[0m \u001b[0mp_s\u001b[0m\u001b[1;33m=\u001b[0m\u001b[1;36m150.0\u001b[0m\u001b[1;33m\u001b[0m\u001b[0m\n\u001b[1;32m----> 2\u001b[1;33m \u001b[0mw_bar\u001b[0m\u001b[1;33m,\u001b[0m \u001b[0mw_bars\u001b[0m\u001b[1;33m=\u001b[0m\u001b[0map\u001b[0m\u001b[1;33m.\u001b[0m\u001b[0mcall_option\u001b[0m\u001b[1;33m(\u001b[0m\u001b[0mzeta\u001b[0m\u001b[1;33m,\u001b[0m \u001b[0mp_s\u001b[0m\u001b[1;33m,\u001b[0m \u001b[0mT\u001b[0m\u001b[1;33m=\u001b[0m\u001b[1;33m[\u001b[0m\u001b[1;36m10\u001b[0m\u001b[1;33m,\u001b[0m \u001b[1;36m20\u001b[0m\u001b[1;33m,\u001b[0m \u001b[1;36m30\u001b[0m\u001b[1;33m]\u001b[0m\u001b[1;33m)\u001b[0m\u001b[1;33m\u001b[0m\u001b[0m\n\u001b[0m\u001b[0;32m      3\u001b[0m \u001b[0mw_bar\u001b[0m\u001b[1;33m\u001b[0m\u001b[0m\n",
      "\u001b[1;32m<ipython-input-2-a3c5fabe9c29>\u001b[0m in \u001b[0;36mcall_option\u001b[1;34m(self, zeta, p_s, T, epsilon)\u001b[0m\n\u001b[0;32m    165\u001b[0m \u001b[1;33m\u001b[0m\u001b[0m\n\u001b[0;32m    166\u001b[0m             \u001b[1;31m#==maximize across columns==#\u001b[0m\u001b[1;33m\u001b[0m\u001b[1;33m\u001b[0m\u001b[0m\n\u001b[1;32m--> 167\u001b[1;33m             \u001b[0mto_stack\u001b[0m\u001b[1;33m=\u001b[0m\u001b[1;33m(\u001b[0m\u001b[0mbeta\u001b[0m\u001b[1;33m*\u001b[0m\u001b[0mP_check\u001b[0m\u001b[1;33m.\u001b[0m\u001b[0mdot\u001b[0m\u001b[1;33m(\u001b[0m\u001b[0mw_bar\u001b[0m\u001b[1;33m)\u001b[0m\u001b[1;33m,\u001b[0m \u001b[0mv_bar\u001b[0m\u001b[1;33m-\u001b[0m\u001b[0mp_s\u001b[0m\u001b[1;33m)\u001b[0m\u001b[1;33m\u001b[0m\u001b[0m\n\u001b[0m\u001b[0;32m    168\u001b[0m             \u001b[0mw_bar_new\u001b[0m\u001b[1;33m=\u001b[0m\u001b[0mnp\u001b[0m\u001b[1;33m.\u001b[0m\u001b[0mamax\u001b[0m\u001b[1;33m(\u001b[0m\u001b[0mnp\u001b[0m\u001b[1;33m.\u001b[0m\u001b[0mvstack\u001b[0m\u001b[1;33m(\u001b[0m\u001b[0mto_stack\u001b[0m\u001b[1;33m)\u001b[0m\u001b[1;33m,\u001b[0m \u001b[0maxis\u001b[0m\u001b[1;33m=\u001b[0m\u001b[1;36m0\u001b[0m\u001b[1;33m)\u001b[0m\u001b[1;33m\u001b[0m\u001b[0m\n\u001b[0;32m    169\u001b[0m \u001b[1;33m\u001b[0m\u001b[0m\n",
      "\u001b[1;31mTypeError\u001b[0m: unsupported operand type(s) for *: 'float' and 'dict'"
     ]
    }
   ],
   "source": [
    "p_s=150.0\n",
    "w_bar, w_bars=ap.call_option(zeta, p_s, T=[10, 20, 30])\n",
    "w_bar"
   ]
  },
  {
   "cell_type": "code",
   "execution_count": null,
   "metadata": {
    "collapsed": true
   },
   "outputs": [],
   "source": []
  }
 ],
 "metadata": {
  "kernelspec": {
   "display_name": "Python 3",
   "language": "python",
   "name": "python3"
  },
  "language_info": {
   "codemirror_mode": {
    "name": "ipython",
    "version": 3
   },
   "file_extension": ".py",
   "mimetype": "text/x-python",
   "name": "python",
   "nbconvert_exporter": "python",
   "pygments_lexer": "ipython3",
   "version": "3.5.1"
  }
 },
 "nbformat": 4,
 "nbformat_minor": 0
}
