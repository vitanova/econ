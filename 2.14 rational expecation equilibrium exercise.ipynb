{
 "cells": [
  {
   "cell_type": "code",
   "execution_count": 1,
   "metadata": {
    "collapsed": true
   },
   "outputs": [],
   "source": [
    "%matplotlib inline\n",
    "import numpy as np\n",
    "import matplotlib.pyplot as plt\n",
    "from quantecon import LQ"
   ]
  },
  {
   "cell_type": "code",
   "execution_count": 3,
   "metadata": {
    "collapsed": false
   },
   "outputs": [
    {
     "name": "stdout",
     "output_type": "stream",
     "text": [
      "F = [0.000, 92.564, 185912.564]\n",
      "(h0, h1, h2) = (-185912.564, 1.000, -92.564)\n"
     ]
    }
   ],
   "source": [
    "#==model parameters==#\n",
    "a0 = 100\n",
    "a1 = 0.05\n",
    "beta = 0.95\n",
    "gamma = 10.0\n",
    "\n",
    "#==beliefs==#\n",
    "kappa0 = 95.5\n",
    "kappa1 = 0.95\n",
    "\n",
    "#==formulate the LQ problem==#\n",
    "A = np.array([[1, 0, 0],\n",
    "             [0, kappa1, kappa0],\n",
    "             [0, 0, 1]])\n",
    "B = np.array([1, 0, 0])\n",
    "B.shape = 3, 1\n",
    "R = np.array([[0, a0/2, -a0/2],\n",
    "             [a1/2, 0, 0],\n",
    "             [-a0/2, 0, 0]])\n",
    "Q = 0.5 * gamma\n",
    "\n",
    "#==solve for the optimal policy==#\n",
    "lq = LQ(Q, R, A, B, beta=beta)\n",
    "P, F, d = lq.stationary_values()\n",
    "F = F.flatten()\n",
    "out1 = \"F = [{0:.3f}, {1:.3f}, {2:.3f}]\".format(F[0], F[1], F[2])\n",
    "h0, h1, h2 = -F[2], 1 - F[0], -F[1]\n",
    "out2 = \"(h0, h1, h2) = ({0:.3f}, {1:.3f}, {2:.3f})\".format(h0, h1, h2)\n",
    "\n",
    "print(out1)\n",
    "print(out2)"
   ]
  },
  {
   "cell_type": "code",
   "execution_count": 7,
   "metadata": {
    "collapsed": true
   },
   "outputs": [],
   "source": [
    "candidates = (\n",
    "          (94.0886298678, 0.923409232937),\n",
    "          (93.2119845412, 0.984323478873),\n",
    "          (95.0818452486, 0.952459076301)\n",
    "             )\n",
    "\n",
    "for kappa0, kappa1 in candidates:\n",
    "    \n",
    "    #==form the associated law of motion==#\n",
    "    A = np.array([[1, 0, 0],\n",
    "                 [0, kappa1, kappa0],\n",
    "                 [0, 0, 1]])\n",
    "    \n",
    "    #==solve the LQ problem for the firm==#\n",
    "    lq = LQ(Q, R, A, B, beta=beta)\n",
    "    P, F, d = lq.stationary_values()\n",
    "    F = F.flatten()\n",
    "    h0, h1, h2 = -F[2], 1-F[0], -F[1]\n",
    "    \n",
    "    #==test the equilibrium condition==#\n",
    "    if np.allclose((kappa0, kappa1), (h0, h1+h2)):\n",
    "        print('equilibrium pair = ', kappa0, kappa1)\n",
    "        print('(h0, h1, h2) = ', h0, h1, h2)\n",
    "        break"
   ]
  },
  {
   "cell_type": "code",
   "execution_count": 9,
   "metadata": {
    "collapsed": false
   },
   "outputs": [
    {
     "name": "stdout",
     "output_type": "stream",
     "text": [
      "95.0818745922 0.952459062704\n"
     ]
    }
   ],
   "source": [
    "#==formulate the planner's LQ problem==#\n",
    "\n",
    "A = np.array([[1, 0],\n",
    "             [0, 1]])\n",
    "B = np.array([[1],\n",
    "              [0]])\n",
    "R = np.array([[a1/2, -a0/2],\n",
    "             [-a0/2, 0]])\n",
    "Q = gamma/2\n",
    "\n",
    "#==solve for the optimal policy==#\n",
    "lq = LQ(Q, R, A, B, beta=beta)\n",
    "P, F, d =lq.stationary_values()\n",
    "\n",
    "#==print the results==#\n",
    "F = F.flatten()\n",
    "kappa0, kappa1 = -F[1], 1-F[0]\n",
    "print(kappa0, kappa1)"
   ]
  },
  {
   "cell_type": "code",
   "execution_count": 10,
   "metadata": {
    "collapsed": false
   },
   "outputs": [
    {
     "name": "stdout",
     "output_type": "stream",
     "text": [
      "73.472944035 0.926527055965\n"
     ]
    }
   ],
   "source": [
    "A = np.array([[1, 0],\n",
    "             [0, 1]])\n",
    "B = np.array([[1],\n",
    "             [0]])\n",
    "R = np.array([[a1, -a0/2],\n",
    "             [-a0/2, 0]])\n",
    "Q = gamma/2\n",
    "\n",
    "lq = LQ(Q, R, A, B, beta=beta)\n",
    "P, F, d = lq.stationary_values()\n",
    "\n",
    "F = F.flatten()\n",
    "m0, m1 = -F[1], 1-F[0]\n",
    "print(m0, m1)"
   ]
  },
  {
   "cell_type": "code",
   "execution_count": null,
   "metadata": {
    "collapsed": true
   },
   "outputs": [],
   "source": []
  }
 ],
 "metadata": {
  "kernelspec": {
   "display_name": "Python 3",
   "language": "python",
   "name": "python3"
  },
  "language_info": {
   "codemirror_mode": {
    "name": "ipython",
    "version": 3
   },
   "file_extension": ".py",
   "mimetype": "text/x-python",
   "name": "python",
   "nbconvert_exporter": "python",
   "pygments_lexer": "ipython3",
   "version": "3.5.1"
  }
 },
 "nbformat": 4,
 "nbformat_minor": 0
}
