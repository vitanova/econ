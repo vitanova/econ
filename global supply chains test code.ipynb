{
 "cells": [
  {
   "cell_type": "code",
   "execution_count": 54,
   "metadata": {
    "collapsed": false
   },
   "outputs": [],
   "source": [
    "import matplotlib.pyplot as plt\n",
    "import numpy as np\n",
    "from scipy.optimize import fsolve\n",
    "from scipy import integrate\n",
    "import scipy.optimize\n",
    "\n",
    "rho=0.03 #subjective discount rate\n",
    "eta=0.4 #north innovation param\n",
    "theta=0.2 #south imitation param\n",
    "gamma=1.5 #quality ladder\n",
    "L_u=0.3 #north unskilled labor proportion\n",
    "lambda_u=0.5 #unskilled mistake rate\n",
    "lambda_s=0.25 #skilled mistake rate\n",
    "chi=1.2 #offshoring cost with tech gaps in type-I GSCs\n",
    "beta=0.5 #south bargaining power upon surplus in type-II GSCs\n",
    "\n",
    "def stages(w, w_u, w_s):\n",
    "    temp=[0, 0]\n",
    "    if chi*w>w_u:\n",
    "        temp1=(w_s/lambda_s-w_u/lambda_u)*lambda_s\n",
    "        temp2=(lambda_u-lambda_s)*w_u/lambda_u\n",
    "        if temp1>=temp2*np.exp(lambda_u):\n",
    "            temp[1]=1\n",
    "        elif temp1<=temp2:\n",
    "            temp[1]=0\n",
    "        else:\n",
    "            temp[1]=np.log(temp1/temp2)/lambda_u\n",
    "        temp[0]=0\n",
    "    elif chi*w==w_u:\n",
    "        temp1=(w_s/lambda_s-w_u/lambda_u)*lambda_s\n",
    "        temp2=(lambda_u-lambda_s)*w_u/lambda_u\n",
    "        if temp1>=temp2*np.exp(lambda_u):\n",
    "            temp[1]=1\n",
    "        elif temp1<=temp2:\n",
    "            temp[1]=0\n",
    "        else:\n",
    "            temp[1]=np.log(temp1/temp2)/lambda_u\n",
    "        s1=lambda x: x\n",
    "        temp[0]=s1\n",
    "    if chi*w<w_u:\n",
    "        temp1=(w_s/lambda_s-w/lambda_u)*lambda_s\n",
    "        temp2=(lambda_u-lambda_s)*w/lambda_u\n",
    "        if temp1>=temp2*np.exp(lambda_u):\n",
    "            temp[1]=1\n",
    "        elif temp1<=temp2:\n",
    "            temp[1]=0\n",
    "        else:\n",
    "            temp[1]=np.log(temp1/temp2)/lambda_u\n",
    "        temp[0]=temp[1]        \n",
    "    return temp\n",
    "\n",
    "def "
   ]
  },
  {
   "cell_type": "code",
   "execution_count": null,
   "metadata": {
    "collapsed": true
   },
   "outputs": [],
   "source": [
    "#the cost function for type-I GSC is more complicated\n",
    "def x(s, stages):\n",
    "    if 0<=s<=stages[0]:\n",
    "        return chi*np.exp(lambda_u*(stages[1]-s)+lambda_s*(1-stages[1]))\n",
    "    elif stages[0]<s<=stages[1]:\n",
    "        return np.exp(lambda_u*(stages[1]-s)+lambda_s*(1-stages[1]))\n",
    "    elif stages[1]<=s<=1:\n",
    "        return np.exp(lambda_s*(1-s))\n",
    "def typeIlabor(stages):\n",
    "    def xx(s):\n",
    "        return x(s, stages)\n",
    "    temp1, err=integrate.quad(xx, 0.01, stages[0])\n",
    "    temp2, err=integrate.quad(xx, stages[0], stages[1])\n",
    "    temp3, err=integrate.quad(xx, stages[1], 0.99)\n",
    "    return temp1, temp2, temp3\n",
    "def possibletypeIcost(w, w_u, w_s, stages):\n",
    "    return w*typeIlabor(stages)[0]+w_u*typeIlabor(stages)[1]+w_s*typeIlabor(stages)[2]\n",
    "def typeIstages(w, w_u, w_s):\n",
    "    def ptypeIcost(stages):\n",
    "        return possibletypeIcost(w, w_u, w_s, stages)\n",
    "    realtypeI=scipy.optimize.minimize(ptypeIcost, [0.2, 0.8], constraints=({'type': 'ineq', 'fun': lambda stages: stages[0]},\n",
    "                                                                          {'type': 'ineq', 'fun': lambda stages: stages[1]},\n",
    "                                                                          {'type': 'ineq', 'fun': lambda stages: stages[1]-stages[0]},\n",
    "                                                                          {'type': 'ineq', 'fun': lambda stages: 1-stages[1]}))\n",
    "    return realtypeI.fun, realtypeI.x\n",
    "def typeIcost(w, w_u, w_s):\n",
    "    return typeIstages(w, w_u, w_s)[0]\n",
    "def typeIl1(w, w_u, w_s):\n",
    "    return typeIlabor(typeIstages(w, w_u, w_s)[1])[0]\n",
    "def typeIlu1(w, w_u, w_s):\n",
    "    return typeIlabor(typeIstages(w, w_u, w_s)[1])[1]\n",
    "def typeIls1(w, w_u, w_s):\n",
    "    return typeIlabor(typeIstages(w, w_u, w_s)[1])[2]"
   ]
  },
  {
   "cell_type": "code",
   "execution_count": 58,
   "metadata": {
    "collapsed": false
   },
   "outputs": [
    {
     "data": {
      "text/plain": [
       "0.2"
      ]
     },
     "execution_count": 58,
     "metadata": {},
     "output_type": "execute_result"
    }
   ],
   "source": [
    "stages(2, 2.4, 2.55)[0](0.2)"
   ]
  },
  {
   "cell_type": "code",
   "execution_count": 49,
   "metadata": {
    "collapsed": true
   },
   "outputs": [],
   "source": [
    "def xx(a, b):\n",
    "    g=lambda ss: ss\n",
    "    if a>=b:\n",
    "        return (1, 2)\n",
    "    else:\n",
    "        return (g, 3)"
   ]
  },
  {
   "cell_type": "code",
   "execution_count": 50,
   "metadata": {
    "collapsed": false
   },
   "outputs": [
    {
     "data": {
      "text/plain": [
       "(<function __main__.xx.<locals>.<lambda>>, 3)"
      ]
     },
     "execution_count": 50,
     "metadata": {},
     "output_type": "execute_result"
    }
   ],
   "source": [
    "xx(3, 5)"
   ]
  },
  {
   "cell_type": "code",
   "execution_count": 51,
   "metadata": {
    "collapsed": false
   },
   "outputs": [
    {
     "data": {
      "text/plain": [
       "4"
      ]
     },
     "execution_count": 51,
     "metadata": {},
     "output_type": "execute_result"
    }
   ],
   "source": [
    "xx(3, 5)[0](4)"
   ]
  },
  {
   "cell_type": "code",
   "execution_count": null,
   "metadata": {
    "collapsed": true
   },
   "outputs": [],
   "source": [
    "#first, we define the cost function\n",
    "def s_star(w_u, w_s):\n",
    "    temp1=(w_s/lambda_s-w_u/lambda_u)*lambda_s\n",
    "    temp2=(lambda_u-lambda_s)*w_u/lambda_u\n",
    "    if temp1<=temp2:\n",
    "        return 0\n",
    "    elif temp1>=temp2*np.exp(lambda_u):\n",
    "        return 1\n",
    "    else:\n",
    "        return np.log(temp1/temp2)/lambda_u\n",
    "def lu1(sstar):\n",
    "    return (np.exp((lambda_u-lambda_s)*sstar)-np.exp(-lambda_s*sstar))*np.exp(lambda_s)/lambda_u\n",
    "def ls1(sstar):\n",
    "    return (np.exp(-lambda_s*sstar)-np.exp(-lambda_s))*np.exp(lambda_s)/lambda_s\n",
    "def c(w_u, w_s):\n",
    "    sstar=s_star(w_u, w_s)\n",
    "    return w_u*lu1(sstar)+w_s*ls1(sstar)"
   ]
  }
 ],
 "metadata": {
  "kernelspec": {
   "display_name": "Python 3",
   "language": "python",
   "name": "python3"
  },
  "language_info": {
   "codemirror_mode": {
    "name": "ipython",
    "version": 3
   },
   "file_extension": ".py",
   "mimetype": "text/x-python",
   "name": "python",
   "nbconvert_exporter": "python",
   "pygments_lexer": "ipython3",
   "version": "3.5.1"
  }
 },
 "nbformat": 4,
 "nbformat_minor": 0
}
