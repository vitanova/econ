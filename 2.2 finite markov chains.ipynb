{
 "cells": [
  {
   "cell_type": "code",
   "execution_count": 1,
   "metadata": {
    "collapsed": true
   },
   "outputs": [],
   "source": [
    "from quantecon import DiscreteRV"
   ]
  },
  {
   "cell_type": "code",
   "execution_count": 2,
   "metadata": {
    "collapsed": true
   },
   "outputs": [],
   "source": [
    "psi=(0.1, 0.9)"
   ]
  },
  {
   "cell_type": "code",
   "execution_count": 3,
   "metadata": {
    "collapsed": true
   },
   "outputs": [],
   "source": [
    "d=DiscreteRV(psi)"
   ]
  },
  {
   "cell_type": "code",
   "execution_count": 4,
   "metadata": {
    "collapsed": false
   },
   "outputs": [
    {
     "data": {
      "text/plain": [
       "array([1, 0, 1, 1, 0], dtype=int32)"
      ]
     },
     "execution_count": 4,
     "metadata": {},
     "output_type": "execute_result"
    }
   ],
   "source": [
    "d.draw(5)"
   ]
  },
  {
   "cell_type": "code",
   "execution_count": 5,
   "metadata": {
    "collapsed": true
   },
   "outputs": [],
   "source": [
    "import numpy as np\n",
    "import quantecon as qe\n",
    "\n",
    "def mc_sample_path(P, init=0, sample_size=1000):\n",
    "    #===make sure P is a numpy array===#\n",
    "    P=np.asarray(P)\n",
    "    #===allocate memory===#\n",
    "    X=np.empty(sample_size, dtype=int)\n",
    "    X[0]=init\n",
    "    #===convert each row of P into a distribution===#\n",
    "    #in particular, P_dist[i] = the distribution corresponding to P[i,:]\n",
    "    n=len(P)\n",
    "    P_dist=[qe.DiscreteRV(P[i,:]) for i in range(n)]\n",
    "    \n",
    "    #===generate the sample path===#\n",
    "    for t in range(sample_size-1):\n",
    "        X[t+1]=P_dist[X[t]].draw()\n",
    "        \n",
    "    return X"
   ]
  },
  {
   "cell_type": "code",
   "execution_count": 6,
   "metadata": {
    "collapsed": false
   },
   "outputs": [
    {
     "data": {
      "text/plain": [
       "0.25123000000000001"
      ]
     },
     "execution_count": 6,
     "metadata": {},
     "output_type": "execute_result"
    }
   ],
   "source": [
    "P=[[0.4, 0.6], [0.2, 0.8]]\n",
    "X=mc_sample_path(P, sample_size=100000)\n",
    "np.mean(X==0)"
   ]
  },
  {
   "cell_type": "code",
   "execution_count": 7,
   "metadata": {
    "collapsed": false
   },
   "outputs": [
    {
     "data": {
      "text/plain": [
       "0.24882000000000001"
      ]
     },
     "execution_count": 7,
     "metadata": {},
     "output_type": "execute_result"
    }
   ],
   "source": [
    "mc=qe.MarkovChain(P)\n",
    "X=mc.simulate(ts_length=100000)\n",
    "np.mean(X==0)"
   ]
  },
  {
   "cell_type": "code",
   "execution_count": 9,
   "metadata": {
    "collapsed": false
   },
   "outputs": [
    {
     "name": "stdout",
     "output_type": "stream",
     "text": [
      "1 loop, best of 3: 6.89 s per loop\n"
     ]
    }
   ],
   "source": [
    "%timeit mc_sample_path(P, sample_size=1000000)"
   ]
  },
  {
   "cell_type": "code",
   "execution_count": 10,
   "metadata": {
    "collapsed": false
   },
   "outputs": [
    {
     "name": "stdout",
     "output_type": "stream",
     "text": [
      "10 loops, best of 3: 59.9 ms per loop\n"
     ]
    }
   ],
   "source": [
    "%timeit mc.simulate(ts_length=1000000)"
   ]
  },
  {
   "cell_type": "code",
   "execution_count": 11,
   "metadata": {
    "collapsed": true
   },
   "outputs": [],
   "source": [
    "mc=qe.MarkovChain(P, state_values=('employed', 'unemployed'))"
   ]
  },
  {
   "cell_type": "code",
   "execution_count": 12,
   "metadata": {
    "collapsed": false
   },
   "outputs": [
    {
     "data": {
      "text/plain": [
       "array(['unemployed', 'unemployed', 'unemployed', 'unemployed'], \n",
       "      dtype='<U10')"
      ]
     },
     "execution_count": 12,
     "metadata": {},
     "output_type": "execute_result"
    }
   ],
   "source": [
    "mc.simulate(ts_length=4)"
   ]
  },
  {
   "cell_type": "code",
   "execution_count": 13,
   "metadata": {
    "collapsed": false
   },
   "outputs": [
    {
     "data": {
      "text/plain": [
       "array([1, 1, 1, 1])"
      ]
     },
     "execution_count": 13,
     "metadata": {},
     "output_type": "execute_result"
    }
   ],
   "source": [
    "mc.simulate_indices(ts_length=4)"
   ]
  },
  {
   "cell_type": "code",
   "execution_count": 14,
   "metadata": {
    "collapsed": true
   },
   "outputs": [],
   "source": [
    "P=[[0.9, 0.1, 0.0],\n",
    "  [0.4, 0.4, 0.2],\n",
    "  [0.1, 0.1, 0.8]]"
   ]
  },
  {
   "cell_type": "code",
   "execution_count": 15,
   "metadata": {
    "collapsed": true
   },
   "outputs": [],
   "source": [
    "mc=qe.MarkovChain(P, ('poor', 'middle', 'rich'))"
   ]
  },
  {
   "cell_type": "code",
   "execution_count": 16,
   "metadata": {
    "collapsed": false
   },
   "outputs": [
    {
     "data": {
      "text/plain": [
       "True"
      ]
     },
     "execution_count": 16,
     "metadata": {},
     "output_type": "execute_result"
    }
   ],
   "source": [
    "mc.is_irreducible"
   ]
  },
  {
   "cell_type": "code",
   "execution_count": 17,
   "metadata": {
    "collapsed": true
   },
   "outputs": [],
   "source": [
    "P=[[1.0, 0.0, 0.0],\n",
    "  [0.1, 0.8, 0.1],\n",
    "  [0.0, 0.2, 0.8]]"
   ]
  },
  {
   "cell_type": "code",
   "execution_count": 18,
   "metadata": {
    "collapsed": true
   },
   "outputs": [],
   "source": [
    "mc=qe.MarkovChain(P, ('poor', 'middle', 'rich'))"
   ]
  },
  {
   "cell_type": "code",
   "execution_count": 19,
   "metadata": {
    "collapsed": false
   },
   "outputs": [
    {
     "data": {
      "text/plain": [
       "False"
      ]
     },
     "execution_count": 19,
     "metadata": {},
     "output_type": "execute_result"
    }
   ],
   "source": [
    "mc.is_irreducible"
   ]
  },
  {
   "cell_type": "code",
   "execution_count": 20,
   "metadata": {
    "collapsed": false
   },
   "outputs": [
    {
     "data": {
      "text/plain": [
       "[array(['poor'], \n",
       "       dtype='<U6'), array(['middle', 'rich'], \n",
       "       dtype='<U6')]"
      ]
     },
     "execution_count": 20,
     "metadata": {},
     "output_type": "execute_result"
    }
   ],
   "source": [
    "mc.communication_classes"
   ]
  },
  {
   "cell_type": "code",
   "execution_count": 21,
   "metadata": {
    "collapsed": true
   },
   "outputs": [],
   "source": [
    "P=[[0, 1, 0],\n",
    "  [0, 0, 1],\n",
    "  [1, 0, 0]]"
   ]
  },
  {
   "cell_type": "code",
   "execution_count": 22,
   "metadata": {
    "collapsed": true
   },
   "outputs": [],
   "source": [
    "mc=qe.MarkovChain(P)"
   ]
  },
  {
   "cell_type": "code",
   "execution_count": 23,
   "metadata": {
    "collapsed": false
   },
   "outputs": [
    {
     "data": {
      "text/plain": [
       "3"
      ]
     },
     "execution_count": 23,
     "metadata": {},
     "output_type": "execute_result"
    }
   ],
   "source": [
    "mc.period"
   ]
  },
  {
   "cell_type": "code",
   "execution_count": 24,
   "metadata": {
    "collapsed": true
   },
   "outputs": [],
   "source": [
    "P=[[0.0, 1.0, 0.0, 0.0],\n",
    "  [0.5, 0.0, 0.5, 0.0],\n",
    "  [0.0, 0.5, 0.0, 0.5],\n",
    "  [0.0, 0.0, 1.0, 0.0]]"
   ]
  },
  {
   "cell_type": "code",
   "execution_count": 25,
   "metadata": {
    "collapsed": true
   },
   "outputs": [],
   "source": [
    "mc=qe.MarkovChain(P)"
   ]
  },
  {
   "cell_type": "code",
   "execution_count": 26,
   "metadata": {
    "collapsed": false
   },
   "outputs": [
    {
     "data": {
      "text/plain": [
       "2"
      ]
     },
     "execution_count": 26,
     "metadata": {},
     "output_type": "execute_result"
    }
   ],
   "source": [
    "mc.period"
   ]
  },
  {
   "cell_type": "code",
   "execution_count": 27,
   "metadata": {
    "collapsed": false
   },
   "outputs": [
    {
     "data": {
      "text/plain": [
       "False"
      ]
     },
     "execution_count": 27,
     "metadata": {},
     "output_type": "execute_result"
    }
   ],
   "source": [
    "mc.is_aperiodic"
   ]
  },
  {
   "cell_type": "code",
   "execution_count": 28,
   "metadata": {
    "collapsed": true
   },
   "outputs": [],
   "source": [
    "P=np.array([[.4, .6], [.2, .8]])"
   ]
  },
  {
   "cell_type": "code",
   "execution_count": 29,
   "metadata": {
    "collapsed": true
   },
   "outputs": [],
   "source": [
    "psi=(0.25, 0.75)"
   ]
  },
  {
   "cell_type": "code",
   "execution_count": 30,
   "metadata": {
    "collapsed": false
   },
   "outputs": [
    {
     "data": {
      "text/plain": [
       "array([ 0.25,  0.75])"
      ]
     },
     "execution_count": 30,
     "metadata": {},
     "output_type": "execute_result"
    }
   ],
   "source": [
    "np.dot(psi, P)"
   ]
  },
  {
   "cell_type": "code",
   "execution_count": 31,
   "metadata": {
    "collapsed": false
   },
   "outputs": [
    {
     "data": {
      "text/plain": [
       "array([[ 0.25,  0.75]])"
      ]
     },
     "execution_count": 31,
     "metadata": {},
     "output_type": "execute_result"
    }
   ],
   "source": [
    "P=[[0.4, 0.6], [0.2, 0.8]]\n",
    "mc=qe.MarkovChain(P)\n",
    "mc.stationary_distributions #show all stationary distributions"
   ]
  },
  {
   "cell_type": "code",
   "execution_count": 32,
   "metadata": {
    "collapsed": false
   },
   "outputs": [
    {
     "data": {
      "image/png": "[encoded data removed]",
      "text/plain": [
       "<matplotlib.figure.Figure at 0x9bc55b0>"
      ]
     },
     "metadata": {},
     "output_type": "display_data"
    }
   ],
   "source": [
    "%matplotlib inline\n",
    "from mpl_toolkits.mplot3d import Axes3D\n",
    "import matplotlib.pyplot as plt\n",
    "\n",
    "P=((0.971, 0.029, 0.000),\n",
    "  (0.145, 0.778, 0.077),\n",
    "  (0.000, 0.508, 0.492))\n",
    "\n",
    "P=np.array(P)\n",
    "\n",
    "psi=(0.0, 0.2, 0.8) #initial condition\n",
    "\n",
    "fig=plt.figure()\n",
    "ax=fig.add_subplot(111, projection='3d')\n",
    "\n",
    "ax.set_xlim(0, 1)\n",
    "ax.set_ylim(0, 1)\n",
    "ax.set_zlim(0, 1)\n",
    "ax.set_xticks((0.25, 0.5, 0.75))\n",
    "ax.set_yticks((0.25, 0.5, 0.75))\n",
    "ax.set_zticks((0.25, 0.5, 0.75))\n",
    "\n",
    "x_vals, y_vals, z_vals=[], [], []\n",
    "for t in range(20):\n",
    "    x_vals.append(psi[0])\n",
    "    y_vals.append(psi[1])\n",
    "    z_vals.append(psi[2])\n",
    "    psi=np.dot(psi, P)\n",
    "    \n",
    "ax.scatter(x_vals, y_vals, z_vals, c='r', s=60)\n",
    "\n",
    "mc=qe.MarkovChain(P)\n",
    "psi_star=mc.stationary_distributions[0]\n",
    "ax.scatter(psi_star[0], psi_star[1], psi_star[2], c='k', s=60)\n",
    "\n",
    "plt.show()"
   ]
  },
  {
   "cell_type": "code",
   "execution_count": 33,
   "metadata": {
    "collapsed": false
   },
   "outputs": [
    {
     "data": {
      "text/plain": [
       "<matplotlib.legend.Legend at 0x9f996f0>"
      ]
     },
     "execution_count": 33,
     "metadata": {},
     "output_type": "execute_result"
    },
    {
     "data": {
      "image/png": "[encoded data removed]",
      "text/plain": [
       "<matplotlib.figure.Figure at 0x8acc3d0>"
      ]
     },
     "metadata": {},
     "output_type": "display_data"
    }
   ],
   "source": [
    "alpha=beta=0.1\n",
    "N=10000\n",
    "p=beta/(alpha+beta)\n",
    "\n",
    "P=((1-alpha, alpha),\n",
    "  (beta, 1-beta))\n",
    "P=np.array(P)\n",
    "mc=qe.MarkovChain(P)\n",
    "\n",
    "fig, ax=plt.subplots(figsize=(9, 6))\n",
    "ax.set_ylim(-0.25, 0.25)\n",
    "ax.grid()\n",
    "ax.hlines(0, 0, N, lw=2, alpha=0.6) #horizonal line at zero\n",
    "\n",
    "for x0, col in ((0, 'blue'), (1, 'green')):\n",
    "    #==generate time series for worker that starts at x0==#\n",
    "    X=mc.simulate(N, init=x0)\n",
    "    #==compute fraction of time spent unemploted, for each n==#\n",
    "    X_bar=(X==0).cumsum()/(1+np.arange(N, dtype=float))\n",
    "    #==plot==#\n",
    "    ax.fill_between(range(N), np.zeros(N), X_bar-p, color=col, alpha=0.1)\n",
    "    ax.plot(X_bar-p, color=col, label=r'$X_0=\\, {} $'.format(x0))\n",
    "    ax.plot(X_bar-p, 'k-', alpha=0.6) #overlay in black -- make lines clearer\n",
    "\n",
    "ax.legend(loc='upper right')"
   ]
  },
  {
   "cell_type": "code",
   "execution_count": 34,
   "metadata": {
    "collapsed": false
   },
   "outputs": [
    {
     "name": "stdout",
     "output_type": "stream",
     "text": [
      "Writing web_graph_data.txt\n"
     ]
    }
   ],
   "source": [
    "%%file web_graph_data.txt\n",
    "a -> d;\n",
    "a -> f;\n",
    "b -> j;\n",
    "b -> k;\n",
    "b -> m;\n",
    "c -> c;\n",
    "c -> g;\n",
    "c -> j;\n",
    "c -> m;\n",
    "d -> f;\n",
    "d -> h;\n",
    "d -> k;\n",
    "e -> d;\n",
    "e -> h;\n",
    "e -> l;\n",
    "f -> a;\n",
    "f -> b;\n",
    "f -> j;\n",
    "f -> l;\n",
    "g -> b;\n",
    "g -> j;\n",
    "h -> d;\n",
    "h -> g;\n",
    "h -> l;\n",
    "h -> m;\n",
    "i -> g;\n",
    "i -> h;\n",
    "i -> n;\n",
    "j -> e;\n",
    "j -> i;\n",
    "j -> k;\n",
    "k -> n;\n",
    "l -> m;\n",
    "m -> g;\n",
    "n -> c;\n",
    "n -> j;\n",
    "n -> m;"
   ]
  },
  {
   "cell_type": "code",
   "execution_count": 36,
   "metadata": {
    "collapsed": false
   },
   "outputs": [
    {
     "name": "stdout",
     "output_type": "stream",
     "text": [
      "Ranking\n",
      " ***\n",
      "g: 0.1607\n",
      "j: 0.1594\n",
      "m: 0.1195\n",
      "n: 0.1088\n",
      "k: 0.09106\n",
      "b: 0.08326\n",
      "i: 0.05312\n",
      "e: 0.05312\n",
      "c: 0.04834\n",
      "h: 0.0456\n",
      "l: 0.03202\n",
      "d: 0.03056\n",
      "f: 0.01164\n",
      "a: 0.002911\n"
     ]
    }
   ],
   "source": [
    "\"\"\"\n",
    "return list of pages, ordered by rank\n",
    "\"\"\"\n",
    "\n",
    "from operator import itemgetter\n",
    "import re\n",
    "\n",
    "infile='web_graph_data.txt'\n",
    "alphabet='abcdefghijklmnopqrstuvwxyz'\n",
    "\n",
    "n=14 #total number of web pages (nodes)\n",
    "\n",
    "#==create a matrix Q indicating existence of links==#\n",
    "# *Q[i, j] =1 if there is a link from i to j\n",
    "# *Q[i, j]=1 otherwise\n",
    "Q=np.zeros((n, n), dtype=int)\n",
    "f =open(infile, 'r')\n",
    "edges=f.readlines()\n",
    "f.close()\n",
    "for edge in edges:\n",
    "    from_node, to_node=re.findall('\\w', edge)\n",
    "    i, j=alphabet.index(from_node), alphabet.index(to_node)\n",
    "    Q[i, j]=1\n",
    "#==create the corresponding Markov matrix P==#\n",
    "P=np.empty((n, n))\n",
    "for i in range(n):\n",
    "    P[i, :] =Q[i, :] / Q[i, :].sum()\n",
    "mc=qe.MarkovChain(P)    \n",
    "#==compute the stationary distribution r==#\n",
    "r=mc.stationary_distributions[0]\n",
    "ranked_pages={alphabet[i] : r[i] for i in range(n)}\n",
    "#==print solution, sorted from highest to lowest rank==#\n",
    "print('Ranking\\n ***')\n",
    "for name, rank in sorted(ranked_pages.items(), key=itemgetter(1), reverse=1):\n",
    "    print('{0}: {1:.4}'.format(name, rank))"
   ]
  },
  {
   "cell_type": "code",
   "execution_count": 40,
   "metadata": {
    "collapsed": true
   },
   "outputs": [],
   "source": [
    "from math import erfc, sqrt\n",
    "from numba import njit\n",
    "\n",
    "def tauchen(rho, sigma_u, m=3, n=7):\n",
    "    \n",
    "    \"\"\"\n",
    "    computes a markov chain associated with a discretized version of \n",
    "    the linear Gaussian AR(1) process\n",
    "    \n",
    "        y_{t+1} =rho * y_{t} +u_{t+1}\n",
    "        \n",
    "    using Tauchen's method. here {u_t} is an iid Gaussian process with\n",
    "    zero mean.\n",
    "    \n",
    "    parameters\n",
    "    ------\n",
    "    rho: scalar(float)\n",
    "        The autocorrelation coefficient\n",
    "    sigma_u : scalar(float)\n",
    "        The standard deviation of the random process\n",
    "    m : scalar(int), optional(default=3)\n",
    "        The number of standard deviations to approximate out to\n",
    "    n : scalar(int), optional(default=7)\n",
    "        The number of states to use in the approximation\n",
    "        \n",
    "    returns\n",
    "    ------\n",
    "    \n",
    "    mc : MarkovChain\n",
    "        An instance of the MarkovChain class that stores the transition\n",
    "        matrix and state values returned by the discretization method\n",
    "        \n",
    "    \"\"\"\n",
    "    \n",
    "    # standard deviation of y_t\n",
    "    std_y = np.sqrt(sigma_u**2 / (1-rho**2))\n",
    "    \n",
    "    # top of discrete state space\n",
    "    x_max = m * std_y\n",
    "    \n",
    "    # bottom of discrete state space\n",
    "    x_min = -x_max\n",
    "    \n",
    "    #discretized state space\n",
    "    x = np.linspace(x_min, x_max, n)\n",
    "    \n",
    "    step = (x_max - x_min) / (n-1)\n",
    "    half_step = 0.5 * step\n",
    "    P = np.empty((n, n))\n",
    "    \n",
    "    _fill_tauchen(x, P, n, rho, sigma_u, half_step)\n",
    "    \n",
    "    mc = qe.MarkovChain(P, state_values=x)\n",
    "    return mc\n",
    "\n",
    "@njit\n",
    "def std_norm_cdf(x):\n",
    "    return 0.5 * erfc(-x / sqrt(2))\n",
    "\n",
    "@njit\n",
    "def _fill_tauchen(x, P, n, rho, sigma, half_step):\n",
    "    for i in range(n):\n",
    "        P[i, 0]=std_norm_cdf((x[0] - rho * x[i] +half_step) / sigma)\n",
    "        P[i, n-1]=1- \\\n",
    "        std_norm_cdf((x[n-1] - rho * x[i] -half_step) / sigma)\n",
    "        for j in range(1, n-1):\n",
    "            z=x[j] - rho * x[i]\n",
    "            P[i, j] = (std_norm_cdf((z + half_step) /sigma)-\n",
    "                      std_norm_cdf((z - half_step) / sigma))"
   ]
  },
  {
   "cell_type": "code",
   "execution_count": 41,
   "metadata": {
    "collapsed": false
   },
   "outputs": [
    {
     "data": {
      "text/plain": [
       "Markov chain with transition matrix \n",
       "P = \n",
       "[[  1.90786953e-01   4.55382814e-01   3.01748954e-01   5.00611419e-02\n",
       "    2.00160075e-03   1.84984465e-05   3.82913410e-08]\n",
       " [  5.20812794e-02   3.01748954e-01   4.55382814e-01   1.73993646e-01\n",
       "    1.64242280e-02   3.67205462e-04   1.87299201e-06]\n",
       " [  8.77447510e-03   1.21520042e-01   4.19443708e-01   3.65696053e-01\n",
       "    8.02332740e-02   4.27913601e-03   5.33123498e-05]\n",
       " [  8.89025299e-04   2.95073365e-02   2.35589167e-01   4.68028942e-01\n",
       "    2.35589167e-01   2.95073365e-02   8.89025299e-04]\n",
       " [  5.33123498e-05   4.27913601e-03   8.02332740e-02   3.65696053e-01\n",
       "    4.19443708e-01   1.21520042e-01   8.77447510e-03]\n",
       " [  1.87299201e-06   3.67205462e-04   1.64242280e-02   1.73993646e-01\n",
       "    4.55382814e-01   3.01748954e-01   5.20812794e-02]\n",
       " [  3.82913411e-08   1.84984465e-05   2.00160075e-03   5.00611419e-02\n",
       "    3.01748954e-01   4.55382814e-01   1.90786953e-01]]"
      ]
     },
     "execution_count": 41,
     "metadata": {},
     "output_type": "execute_result"
    }
   ],
   "source": [
    "tauchen(0.6, 1.0)"
   ]
  },
  {
   "cell_type": "code",
   "execution_count": null,
   "metadata": {
    "collapsed": true
   },
   "outputs": [],
   "source": []
  }
 ],
 "metadata": {
  "kernelspec": {
   "display_name": "Python 3",
   "language": "python",
   "name": "python3"
  },
  "language_info": {
   "codemirror_mode": {
    "name": "ipython",
    "version": 3
   },
   "file_extension": ".py",
   "mimetype": "text/x-python",
   "name": "python",
   "nbconvert_exporter": "python",
   "pygments_lexer": "ipython3",
   "version": "3.5.1"
  }
 },
 "nbformat": 4,
 "nbformat_minor": 0
}
