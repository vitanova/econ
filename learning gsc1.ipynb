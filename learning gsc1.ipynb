{
 "cells": [
  {
   "cell_type": "code",
   "execution_count": 62,
   "metadata": {
    "collapsed": false
   },
   "outputs": [],
   "source": [
    "%matplotlib inline\n",
    "import numpy as np\n",
    "import matplotlib.pyplot as plt\n",
    "from scipy.optimize import fsolve\n",
    "import scipy\n",
    "from scipy.optimize import newton\n",
    "from scipy.optimize import fixed_point\n",
    "\n",
    "\"\"\"\n",
    "use beta=0.95, 0.97\n",
    "lambdah=0.41, 0.45, 0.49\n",
    "\"\"\"\n",
    "\n",
    "\n",
    "class gsc(object):\n",
    "    def __init__(self, beta, lambdah):\n",
    "        self.beta=beta\n",
    "        self.lambdah=lambdah\n",
    "        \n",
    "    def lnwage(self, low):\n",
    "        beta=self.beta\n",
    "        temp1=(1-beta)/((1-low)*beta*(low+beta-1))\n",
    "        temp2=(low+beta-1)/low\n",
    "        return np.exp(temp1)*temp2\n",
    "\n",
    "    \"\"\"\n",
    "    high=1-low\n",
    "    llow=low+beta-1\n",
    "    \"\"\"\n",
    "    def stage(self, low):\n",
    "        beta=self.beta\n",
    "        lambdah=self.lambdah\n",
    "        temp1=(low+beta-1)*np.exp(-lambdah)\n",
    "        temp2=np.sqrt(temp1**2+(1-low)*(1-low+2*(low+beta-1)))\n",
    "        temp3=(temp1+temp2)/(1-low+2*(low+beta-1))\n",
    "        return -np.log(temp3)/lambdah\n",
    "\n",
    "    def wage(self, low):\n",
    "        lambdah=self.lambdah\n",
    "        return (np.exp(2*lambdah*self.stage(low))+1)/2\n",
    "\n",
    "\n",
    "    def dwage(self, low):\n",
    "        return self.lnwage(low)-self.wage(low)\n",
    "    \n",
    "    def nofriction(self):\n",
    "        beta=self.beta\n",
    "        lambdah=self.lambdah\n",
    "        full_low1=float(fsolve(self.dwage, 0.3))\n",
    "        full_wage1=float(self.wage(full_low1))\n",
    "        full_stage1=float(self.stage(full_low1))\n",
    "        full_learn1=float((1-beta)/full_low1)\n",
    "        print(full_wage1,\"\\n\",\n",
    "              full_stage1, \"\\n\",\n",
    "              full_low1, \"\\n\",\n",
    "              full_learn1, \"\\n\")\n",
    "        full_low2=float(fsolve(self.dwage, 0.98))\n",
    "        full_wage2=float(self.wage(full_low2))\n",
    "        full_stage2=float(self.stage(full_low2))\n",
    "        full_learn2=float((1-beta)/full_low2)\n",
    "        print(full_wage2,\"\\n\",\n",
    "              full_stage2, \"\\n\",\n",
    "              full_low2, \"\\n\",\n",
    "              full_learn2, \"\\n\")\n",
    "        \n",
    "    def friction(self):\n",
    "        beta=self.beta\n",
    "        lambdah=self.lambdah\n",
    "        def g(w):\n",
    "            def f(x):\n",
    "                return self.lnwage(x)-w\n",
    "            return (fsolve(f, 0.1), fsolve(f, 0.8))\n",
    "        def glow(w):\n",
    "            return (g(w)[0]+g(w)[1])/2\n",
    "        def newwage(w):\n",
    "            return self.wage(glow(w))\n",
    "        equi_wage=float(fixed_point(newwage, 1.16))\n",
    "        equi_lownorth=float(g(equi_wage)[0])\n",
    "        equi_lowsouth=float(g(equi_wage)[1])\n",
    "        equi_stage=float(self.stage(low(equi_wage)))\n",
    "        equi_learnsouth=float((1-beta)/equi_lowsouth)\n",
    "        equi_learnnorth=float((1-beta)/equi_lownorth)\n",
    "        print(equi_wage,\"\\n\",\n",
    "             equi_stage, \"\\n\",\n",
    "             equi_lownorth, \"\\n\",\n",
    "              equi_learnnorth, \"\\n\",\n",
    "             equi_lowsouth, \"\\n\",\n",
    "             equi_learnsouth)"
   ]
  },
  {
   "cell_type": "code",
   "execution_count": 121,
   "metadata": {
    "collapsed": false
   },
   "outputs": [
    {
     "name": "stdout",
     "output_type": "stream",
     "text": [
      "1.0597572530305912 \n",
      " 0.1376769690216081 \n",
      " 0.302388877607516 \n",
      " 0.09920999818961054 \n",
      " 0.3555090255375633 \n",
      " 0.14064340539426617\n"
     ]
    },
    {
     "name": "stderr",
     "output_type": "stream",
     "text": [
      "C:\\Anaconda3\\lib\\site-packages\\scipy\\optimize\\minpack.py:236: RuntimeWarning: The iteration is not making good progress, as measured by the \n",
      "  improvement from the last ten iterations.\n",
      "  warnings.warn(msg, RuntimeWarning)\n",
      "C:\\Anaconda3\\lib\\site-packages\\scipy\\optimize\\minpack.py:236: RuntimeWarning: The iteration is not making good progress, as measured by the \n",
      "  improvement from the last five Jacobian evaluations.\n",
      "  warnings.warn(msg, RuntimeWarning)\n"
     ]
    }
   ],
   "source": [
    "\n",
    "beta=0.96\n",
    "lambdah=0.41\n",
    "\n",
    "def invertstatic(w):\n",
    "    def t(w):\n",
    "        return 1/(2*w-1)**0.5\n",
    "    def f(low):\n",
    "        return (1-low+2*(low+beta-1))*t(w)**2-2*(low+beta-1)*np.exp(-lambdah)*t(w)\n",
    "    return fixed_point(f, 0.1)\n",
    "g1=gsc(0.95, lambdah)\n",
    "g2=gsc(0.97, lambdah)\n",
    "def invertdynamic1(w):\n",
    "    def f(low):\n",
    "        return g1.lnwage(low)-w\n",
    "    return fsolve(f, 0.1)\n",
    "def invertdynamic2(w):\n",
    "    def f(low):\n",
    "        return g2.lnwage(low)-w\n",
    "    return fsolve(f, 0.1)\n",
    "def dw(w):\n",
    "    return 2*invertstatic(w)-invertdynamic1(w)-invertdynamic2(w)\n",
    "wstar=float(fsolve(dw, 1.05))\n",
    "lowsouth=float(invertdynamic1(wstar))\n",
    "lownorth=float(invertdynamic2(wstar))\n",
    "learnsouth=float((1-0.95)/lowsouth)\n",
    "learnnorth=float((1-0.97)/lownorth)\n",
    "sstar=float(np.log(2*wstar-1)/(2*lambdah))\n",
    "print(wstar, \"\\n\",\n",
    "      sstar, \"\\n\",\n",
    "      lownorth, \"\\n\",\n",
    "      learnnorth, \"\\n\",\n",
    "      lowsouth, \"\\n\",\n",
    "      learnsouth\n",
    "     )"
   ]
  },
  {
   "cell_type": "code",
   "execution_count": 17,
   "metadata": {
    "collapsed": false
   },
   "outputs": [
    {
     "name": "stdout",
     "output_type": "stream",
     "text": [
      "full wagehigh=[ 1.06888374] \n",
      "full critical stage=[ 0.13170204] \n",
      "full low skill=[ 0.19084316] \n",
      "full learning intensity=[ 0.15719715] \n",
      "\n",
      "full wagelow=[ 1.71097804] \n",
      "full critical stage=[ 0.90262807] \n",
      "full low skill=[ 0.94034327] \n",
      "full learning intensity=[ 0.03190324] \n",
      "\n",
      "global wage=[ 1.21138251] \n",
      "global critical stage=[ 0.35979815] \n",
      "north low skill=[ 0.08213941] \n",
      "north learning intensity=[ 0.36523271] \n",
      "south low skill=[ 0.83105444] \n",
      "south learning intensity=[ 0.03609872]\n"
     ]
    }
   ],
   "source": [
    "g1=gsc(0.97, 0.49)\n",
    "g1.nofriction()\n",
    "g1.friction()"
   ]
  },
  {
   "cell_type": "code",
   "execution_count": null,
   "metadata": {
    "collapsed": true
   },
   "outputs": [],
   "source": []
  }
 ],
 "metadata": {
  "kernelspec": {
   "display_name": "Python 3",
   "language": "python",
   "name": "python3"
  },
  "language_info": {
   "codemirror_mode": {
    "name": "ipython",
    "version": 3
   },
   "file_extension": ".py",
   "mimetype": "text/x-python",
   "name": "python",
   "nbconvert_exporter": "python",
   "pygments_lexer": "ipython3",
   "version": "3.5.1"
  }
 },
 "nbformat": 4,
 "nbformat_minor": 0
}
