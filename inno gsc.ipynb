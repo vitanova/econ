{
 "cells": [
  {
   "cell_type": "code",
   "execution_count": 23,
   "metadata": {
    "collapsed": false
   },
   "outputs": [
    {
     "data": {
      "text/plain": [
       "1.1361016667509658"
      ]
     },
     "execution_count": 23,
     "metadata": {},
     "output_type": "execute_result"
    }
   ],
   "source": [
    "import matplotlib.pyplot as plt\n",
    "from mpl_toolkits.mplot3d.axes3d import Axes3D\n",
    "import numpy as np\n",
    "from matplotlib import cm\n",
    "\n",
    "lambdal=0.5\n",
    "lambdah=0.25\n",
    "h=0.3\n",
    "l=1-h\n",
    "lamda=0.05\n",
    "gamma=1.5\n",
    "r=0.03\n",
    "def s_star(w_l, w_h):\n",
    "    if w_h<=w_l:\n",
    "        return 0\n",
    "    elif w_h<=w_l*((lambdal-lambdah)*np.exp(lambdal)+lambdah)/lambdal:\n",
    "        return -np.log((w_l*(lambdal-lambdah)/lambdal)/(lambdah*(w_h/lambdah-w_l/lambdal)))/lambdal\n",
    "    else:\n",
    "        return 1\n",
    "\n",
    "def l_1(s_star):\n",
    "    return (np.exp((lambdal-lambdah)*s_star)-np.exp(-lambdah*s_star))*np.exp(lambdah)/lambdal\n",
    "def h_1(s_star):\n",
    "    return (np.exp(-lambdah*s_star)-np.exp(-lambdah))*np.exp(lambdah)/lambdah\n",
    "def c(w_l, w_h):\n",
    "    return w_l*l_1(s_star(w_l, w_h))+w_h*h_1(s_star(w_l, w_h))\n",
    "\n",
    "def w_h(n):\n",
    "    return lamda*(1-1/gamma)/(r+lamda*n)\n",
    "def h(w_l, w_h, n):\n",
    "    return n+h_1(s_star(w_l, w_h))/(gamma*c(w_l, w_h))\n",
    "def l(w_l, w_h):\n",
    "    return l_1(s_star(w_l, w_h))/(gamma*c(w_l, w_h))"
   ]
  },
  {
   "cell_type": "code",
   "execution_count": null,
   "metadata": {
    "collapsed": true
   },
   "outputs": [],
   "source": []
  }
 ],
 "metadata": {
  "kernelspec": {
   "display_name": "Python 3",
   "language": "python",
   "name": "python3"
  },
  "language_info": {
   "codemirror_mode": {
    "name": "ipython",
    "version": 3
   },
   "file_extension": ".py",
   "mimetype": "text/x-python",
   "name": "python",
   "nbconvert_exporter": "python",
   "pygments_lexer": "ipython3",
   "version": "3.5.1"
  }
 },
 "nbformat": 4,
 "nbformat_minor": 0
}
