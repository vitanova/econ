{
 "cells": [
  {
   "cell_type": "code",
   "execution_count": 29,
   "metadata": {
    "collapsed": true
   },
   "outputs": [],
   "source": [
    "\"\"\"\n",
    "I am going to draw the product range choice of pure vi, pure mp, and hybrid platform\n",
    "\"\"\"\n",
    "import matplotlib.pyplot as plt\n",
    "import matplotlib.patches as patches\n",
    "from matplotlib import rc\n",
    "rc('font',**{'family':'sans-serif','sans-serif':['Helvetica']})\n",
    "rc('text', usetex=True)\n",
    "import numpy as np\n",
    "\n",
    "fig=plt.figure(figsize=(25,40))\n",
    "ax=fig.add_subplot(111, aspect='equal')\n",
    "ax.set_xlim(0, 1.0)\n",
    "ax.set_ylim(0, 1.0)\n",
    "\n",
    "ax.plot([0.3, 0.9], [0.75, 0.75], color='black', lw=1.5)\n",
    "ax.plot([0.3, 0.3], [0.74, 0.76], color='black', lw=1.5)\n",
    "ax.plot([0.9, 0.9], [0.74, 0.76], color='black', lw=1.5)\n",
    "ax.plot([0.7, 0.7], [0.74, 0.76], color='black', lw=1.5)\n",
    "ax.annotate(\"pure VI\", xy=(0.15,0.75), fontsize=12)\n",
    "ax.annotate(r\"$x_{VI}$\", xy=(0.7,0.7), fontsize=12)\n",
    "ax.annotate(\"0\", xy=(0.3,0.7), fontsize=12)\n",
    "ax.annotate(\"1\", xy=(0.9,0.7), fontsize=12)\n",
    "ax.annotate(r\"$\\overbrace{\\ \\ \\ \\ \\ \\ \\ \\ \\ \\ \\ \\ \\ \\ \\ \\ \\ \\ \\ \\ \\ \\ \\ \\ \\ \\ \\ \\ \\ \\ \\ \\ \\ \\ \\ \\ \\ \\ \\ \\ \\ \\ \\ \\ \\ \\ \\ \\  }^{Vertical\\ Integration}$\", \n",
    "            xy=(0.3, 0.76), fontsize=15)\n",
    "ax.annotate(r\"$\\overbrace{\\ \\ \\ \\ \\ \\ \\ \\ \\ \\ \\ \\ \\ \\ \\ \\ \\ \\ \\ \\ \\ \\ \\ \\ }^{Exclusion}$\", \n",
    "            xy=(0.7, 0.76), fontsize=15)\n",
    "\n",
    "ax.plot([0.3, 0.9], [0.5, 0.5], color='black', lw=1.5)\n",
    "ax.plot([0.3, 0.3], [0.49, 0.51], color='black', lw=1.5)\n",
    "ax.plot([0.9, 0.9], [0.49, 0.51], color='black', lw=1.5)\n",
    "ax.plot([0.6, 0.6], [0.49, 0.51], color='black', lw=1.5)\n",
    "ax.annotate(\"Hybrid\", xy=(0.15,0.5), fontsize=12)\n",
    "ax.annotate(r\"$x^*$\", xy=(0.6,0.45), fontsize=12)\n",
    "ax.annotate(\"0\", xy=(0.3,0.45), fontsize=12)\n",
    "ax.annotate(\"1\", xy=(0.9,0.45), fontsize=12)\n",
    "ax.annotate(r\"$\\overbrace{\\ \\ \\ \\ \\ \\ \\ \\ \\ \\ \\ \\ \\ \\ \\ \\ \\ \\ \\ \\ \\ \\ \\ \\ \\ \\ \\ \\ \\ \\ \\ \\ \\ \\ \\ \\ }^{Vertical\\ Integration}$\", \n",
    "            xy=(0.3, 0.51), fontsize=15)\n",
    "ax.annotate(r\"$\\overbrace{\\ \\ \\ \\ \\ \\ \\ \\ \\ \\ \\ \\ \\ \\ \\ \\ \\ \\ \\ \\ \\ \\ \\ \\ \\ \\  \\ \\ \\ \\ \\ \\ \\ \\ \\ \\ }^{Market\\ Place}$\", \n",
    "            xy=(0.6, 0.51), fontsize=15)\n",
    "\n",
    "ax.plot([0.3, 0.9], [0.25, 0.25], color='black', lw=1.5)\n",
    "ax.plot([0.3, 0.3], [0.24, 0.26], color='black', lw=1.5)\n",
    "ax.plot([0.9, 0.9], [0.24, 0.26], color='black', lw=1.5)\n",
    "ax.annotate(\"pure MP\", xy=(0.15,0.25), fontsize=12)\n",
    "ax.annotate(\"inspection cost: x\", xy=(0.45,0.1), fontsize=12)\n",
    "ax.annotate(\"0\", xy=(0.3,0.2), fontsize=12)\n",
    "ax.annotate(\"1\", xy=(0.9,0.2), fontsize=12)\n",
    "ax.annotate(r\"$\\overbrace{\\ \\ \\ \\ \\ \\ \\ \\ \\ \\ \\ \\ \\ \\ \\ \\ \\ \\ \\ \\ \\ \\ \\ \\ \\ \\ \\ \\ \\ \\ \\ \\ \\ \\ \\ \\ \\ \\ \\ \\ \\ \\ \\ \\ \\ \\ \\ \\ \\ \\ \\ \\ \\ \\ \\ \\ \\ \\ \\ \\ \\ \\ \\ \\ \\ \\ \\ \\ \\ \\ \\ \\  }^{Market\\ Place}$\", \n",
    "            xy=(0.3, 0.26), fontsize=15)\n",
    "\n",
    "ax.set_xticks([])\n",
    "ax.set_yticks([])\n",
    "ax.spines['right'].set_color('none')\n",
    "ax.spines['top'].set_color('none')\n",
    "ax.spines['bottom'].set_color('none')\n",
    "ax.spines['left'].set_color('none')\n",
    "\n",
    "ax.annotate(\"organization modes and product range\", xy=(0.3,0.9), fontsize=16)\n",
    "plt.show()"
   ]
  },
  {
   "cell_type": "code",
   "execution_count": null,
   "metadata": {
    "collapsed": true
   },
   "outputs": [],
   "source": []
  }
 ],
 "metadata": {
  "kernelspec": {
   "display_name": "Python 3",
   "language": "python",
   "name": "python3"
  },
  "language_info": {
   "codemirror_mode": {
    "name": "ipython",
    "version": 3
   },
   "file_extension": ".py",
   "mimetype": "text/x-python",
   "name": "python",
   "nbconvert_exporter": "python",
   "pygments_lexer": "ipython3",
   "version": "3.5.1"
  }
 },
 "nbformat": 4,
 "nbformat_minor": 0
}
