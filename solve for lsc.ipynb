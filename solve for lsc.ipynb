{
 "cells": [
  {
   "cell_type": "code",
   "execution_count": 31,
   "metadata": {
    "collapsed": false
   },
   "outputs": [
    {
     "name": "stdout",
     "output_type": "stream",
     "text": [
      "equilibrium under local supply chains \n",
      " south (unskilled) wage  0.384854850719 \n",
      " north unskilled wage  0.535813132901 \n",
      " north skilled wage  0.578528566639 \n",
      " north innovate intensity  0.224862150156 \n",
      " south imitation intensity  0.310793136637 \n",
      " north industrial share  0.591339893686 \n",
      " south industrial share  0.408660106314\n"
     ]
    }
   ],
   "source": [
    "\"\"\"\n",
    "now, let's compute the equilibrium with local supply chains\n",
    "\"\"\"\n",
    "%matplotlib inline\n",
    "import matplotlib.pyplot as plt\n",
    "import numpy as np\n",
    "from scipy.optimize import fsolve\n",
    "import scipy.optimize\n",
    "\n",
    "rho=0.03\n",
    "eta=0.4\n",
    "theta=0.2\n",
    "gamma=1.5\n",
    "L_u=0.3\n",
    "lambda_u=0.5\n",
    "lambda_s=0.25\n",
    "\n",
    "#first, we define the cost function\n",
    "def s_star(w_u, w_s):\n",
    "    temp1=(w_s/lambda_s-w_u/lambda_u)*lambda_s\n",
    "    temp2=(lambda_u-lambda_s)*w_u/lambda_u\n",
    "    if temp1<=temp2:\n",
    "        return 0\n",
    "    elif temp1>=temp2*np.exp(lambda_u):\n",
    "        return 1\n",
    "    else:\n",
    "        return np.log(temp1/temp2)/lambda_u\n",
    "def lu1(sstar):\n",
    "    return (np.exp((lambda_u-lambda_s)*sstar)-np.exp(-lambda_s*sstar))*np.exp(lambda_s)/lambda_u\n",
    "def ls1(sstar):\n",
    "    return (np.exp(-lambda_s*sstar)-np.exp(-lambda_s))*np.exp(lambda_s)/lambda_s\n",
    "def c(w_u, w_s):\n",
    "    sstar=s_star(w_u, w_s)\n",
    "    return w_u*lu1(sstar)+w_s*ls1(sstar)\n",
    "\n",
    "#then, we express profit, research intensity, and north-leading firm proportion as functions of (w, w_u, w_s)\n",
    "def pi_n(w, w_u, w_s):\n",
    "    return 1-c(w_u, w_s)/(gamma*c(w, 100))\n",
    "def pi_s(w, w_u, w_s):\n",
    "    return 1-c(w, 10)/c(w_u, w_s)\n",
    "def n_imi(w, w_u, w_s):\n",
    "    return (pi_n(w, w_u, w_s)*eta/w_s-rho)/theta\n",
    "def n_inn(w, w_u, w_s):\n",
    "    return (pi_s(w, w_u, w_s)*theta/w-rho)/eta\n",
    "def xi_n(w, w_u, w_s):\n",
    "    return eta*n_inn(w, w_u, w_s)/(eta*n_inn(w, w_u, w_s)+theta*n_imi(w, w_u, w_s))\n",
    "\n",
    "#third, we express the excess demand for three kinds of labors as functions of (w, w_u, w_s)\n",
    "def southlaborexcessdemand(w, w_u, w_s):\n",
    "    return xi_n(w, w_u, w_s)*n_imi(w, w_u, w_s)+(1-xi_n(w, w_u, w_s))*lu1(s_star(w, 100))/c(w_u, w_s)-1\n",
    "def northunskillexcessdemand(w, w_u, w_s):\n",
    "    return xi_n(w, w_u, w_s)*lu1(s_star(w_u, w_s))/(gamma*c(w, 100))-L_u\n",
    "def northskillexcessdemand(w, w_u, w_s):\n",
    "    return (1-xi_n(w, w_u, w_s))*n_inn(w, w_u, w_s)+xi_n(w, w_u, w_s)*ls1(s_star(w_u, w_s))/(gamma*c(w, 100))-(1-L_u)\n",
    "\n",
    "#finally, we minimize the quadratic sum of those excess demands\n",
    "def tol(x):\n",
    "    return southlaborexcessdemand(x[0], x[1], x[2])**2+northunskillexcessdemand(x[0], x[1], x[2])**2+northskillexcessdemand(x[0], x[1], x[2])**2\n",
    "lscwage=scipy.optimize.minimize(tol, (0.5, 0.8, 2), constraints=({'type': 'ineq', 'fun': lambda x: x[1]-x[0]},\n",
    "                                                         {'type': 'ineq', 'fun': lambda x: x[2]-x[1]},\n",
    "                                                         {'type': 'ineq', 'fun': lambda x: x[0]},\n",
    "                                                         {'type': 'ineq', 'fun': lambda x: x[1]},\n",
    "                                                         {'type': 'ineq', 'fun': lambda x: x[2]},\n",
    "                                                         {'type': 'ineq', 'fun': lambda x: 1-x[0]}))\n",
    "print(\"equilibrium under local supply chains\", \"\\n\",\n",
    "     \"south (unskilled) wage \", lscwage.x[0], \"\\n\",\n",
    "     \"north unskilled wage \", lscwage.x[1], \"\\n\",\n",
    "     \"north skilled wage \", lscwage.x[2], \"\\n\",\n",
    "     \"north innovate intensity \", n_inn(lscwage.x[0], lscwage.x[1], lscwage.x[2]), \"\\n\",\n",
    "     \"south imitation intensity \", n_imi(lscwage.x[0], lscwage.x[1], lscwage.x[2]), \"\\n\",\n",
    "     \"north industrial share \", xi_n(lscwage.x[0], lscwage.x[1], lscwage.x[2]), \"\\n\",\n",
    "     \"south industrial share \", 1-xi_n(lscwage.x[0], lscwage.x[1], lscwage.x[2]))"
   ]
  },
  {
   "cell_type": "code",
   "execution_count": 32,
   "metadata": {
    "collapsed": false
   },
   "outputs": [
    {
     "data": {
      "text/plain": [
       "-6.9388939039072284e-18"
      ]
     },
     "execution_count": 32,
     "metadata": {},
     "output_type": "execute_result"
    }
   ],
   "source": [
    "#check the steady-state condition\n",
    "temp1=eta*n_inn(lscwage.x[0], lscwage.x[1], lscwage.x[2])*(1-xi_n(lscwage.x[0], lscwage.x[1], lscwage.x[2]))\n",
    "temp2=theta*n_imi(lscwage.x[0], lscwage.x[1], lscwage.x[2])*(xi_n(lscwage.x[0], lscwage.x[1], lscwage.x[2]))\n",
    "temp1-temp2"
   ]
  },
  {
   "cell_type": "code",
   "execution_count": null,
   "metadata": {
    "collapsed": true
   },
   "outputs": [],
   "source": []
  }
 ],
 "metadata": {
  "kernelspec": {
   "display_name": "Python 3",
   "language": "python",
   "name": "python3"
  },
  "language_info": {
   "codemirror_mode": {
    "name": "ipython",
    "version": 3
   },
   "file_extension": ".py",
   "mimetype": "text/x-python",
   "name": "python",
   "nbconvert_exporter": "python",
   "pygments_lexer": "ipython3",
   "version": "3.5.1"
  }
 },
 "nbformat": 4,
 "nbformat_minor": 0
}
