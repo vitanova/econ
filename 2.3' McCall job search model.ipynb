{
 "cells": [
  {
   "cell_type": "code",
   "execution_count": 10,
   "metadata": {
    "collapsed": false
   },
   "outputs": [],
   "source": [
    "\n",
    "\"\"\"\n",
    "implements iteration on the bellman equations to solve the McCall model\n",
    "\"\"\"\n",
    "\n",
    "import numpy as np\n",
    "from quantecon.distributions import BetaBinomial\n",
    "from numba import jit\n",
    "\n",
    "#a default utility function\n",
    "\n",
    "@jit\n",
    "def u(c, sigma):\n",
    "    if c > 0:\n",
    "        return (c**(1 - sigma) - 1) / (1 - sigma)\n",
    "    else:\n",
    "        return -10e6\n",
    "    \n",
    "class McCallModel:\n",
    "    \"\"\"\n",
    "    stores the parameters and functions associated with a given model\n",
    "    \"\"\"\n",
    "    \n",
    "    def __init__(self, alpha=0.2, #job separation rate\n",
    "                beta=0.98, #discount rate\n",
    "                gamma=0.7, #job offer rate\n",
    "                c=6.0, #unemployment compensation\n",
    "                sigma=2.0, #utility parameter\n",
    "                w_vec=None, #possible wage values\n",
    "                p_vec=None): #probabilities over w_vec\n",
    "        \n",
    "        self.alpha, self.beta, self.gamma, self.c = alpha, beta, gamma, c\n",
    "        self.sigma = sigma\n",
    "        \n",
    "        #add a default wage vector and probabilities over the vector using\n",
    "        #the beta-binomial distribution\n",
    "        if w_vec is None:\n",
    "            n = 60 #number of possible outcomes for wage\n",
    "            self.w_vec = np.linspace(10, 20, n) #wages between 10 and 20\n",
    "            a, b = 600, 400 #shape parameters\n",
    "            dist = BetaBinomial(n-1, a, b)\n",
    "            self.p_vec = dist.pdf()\n",
    "        else:\n",
    "            self.w_vec = w_vec\n",
    "            self.p_vec = p_vec\n",
    "\n",
    "@jit\n",
    "def _update_bellman(alpha, beta, gamma, c, sigma, w_vec, p_vec, V, V_new, U):\n",
    "    \"\"\"\n",
    "    a jitted function to update the bellman equations. note that V_new is\n",
    "    modified in place (i.e., modified by this function). the new value of U is\n",
    "    returned\n",
    "    \n",
    "    \"\"\"\n",
    "    for w_idx, w in enumerate(w_vec):\n",
    "        #w_idx indexes the vector of possible wages\n",
    "        V_new[w_idx] = u(w, sigma) + beta * ((1 - alpha) * V[w_idx] + alpha * U)\n",
    "        \n",
    "    U_new = u(c, sigma) +beta * (1 - gamma) * U + \\\n",
    "    beta * gamma * np.sum(np.maximum(U, V) * p_vec)\n",
    "    \n",
    "    return U_new\n",
    "\n",
    "def solve_mccall_model(mcm, tol=1e-5, max_iter=2000):\n",
    "    \"\"\"\n",
    "    iterates to convergence on the bellman equations\n",
    "    \n",
    "    parameters\n",
    "    ------\n",
    "    mcm: an instance of McCallModel\n",
    "    tol: float\n",
    "        error tolerance\n",
    "    max_iter: int\n",
    "        the maximum number of iterations\n",
    "    \"\"\"\n",
    "    \n",
    "    V = np.ones(len(mcm.w_vec)) #initial guess of V\n",
    "    V_new = np.empty_like(V) #to store updates to V\n",
    "    U = 1 #initial guess of U\n",
    "    i = 0\n",
    "    error = tol + 1\n",
    "    \n",
    "    while error > tol and i < max_iter:\n",
    "        U_new = _update_bellman(mcm.alpha, mcm.beta, mcm.gamma, \n",
    "                               mcm.c, mcm.sigma, mcm.w_vec, mcm.p_vec, V, V_new, U)\n",
    "        error_1 = np.max(np.abs(V_new -V))\n",
    "        error_2 = np.abs(U_new - U)\n",
    "        error = max(error_1, error_2)\n",
    "        V[:] = V_new\n",
    "        U = U_new\n",
    "        i +=1\n",
    "        \n",
    "    return V, U"
   ]
  },
  {
   "cell_type": "code",
   "execution_count": 11,
   "metadata": {
    "collapsed": false
   },
   "outputs": [
    {
     "data": {
      "image/png": "[encoded data removed]",
      "text/plain": [
       "<matplotlib.figure.Figure at 0x8e9f990>"
      ]
     },
     "metadata": {},
     "output_type": "display_data"
    }
   ],
   "source": [
    "\"\"\"\n",
    "generate plots of value of employment and unemployment in the McCall model\n",
    "\"\"\"\n",
    "\n",
    "%matplotlib inline\n",
    "\n",
    "import numpy as np\n",
    "import matplotlib.pyplot as plt\n",
    "\n",
    "mcm = McCallModel()\n",
    "V, U =solve_mccall_model(mcm)\n",
    "\n",
    "fig, ax = plt.subplots()\n",
    "\n",
    "ax.plot(mcm.w_vec, V, 'b-', lw=2, alpha=0.7, label='$V$')\n",
    "ax.plot(mcm.w_vec, [U]*len(mcm.w_vec), 'g-', lw=2, alpha=0.7, label='$U$')\n",
    "ax.legend(loc='upper left')\n",
    "ax.grid()\n",
    "\n",
    "plt.show()"
   ]
  },
  {
   "cell_type": "code",
   "execution_count": 12,
   "metadata": {
    "collapsed": true
   },
   "outputs": [],
   "source": [
    "def compute_reservation_wage(mcm):\n",
    "    \"\"\"\n",
    "    computes the reservation wage of an instance of the McCall model\n",
    "    by finding the smallest w such that V(w) > U\n",
    "    \n",
    "    if V(w) > U for all w, then the reservation wage w_bar is set to the\n",
    "    lowest wage in mcm.w_vec.\n",
    "    \n",
    "    if V(w) < U for all w, then w_bar is set to np.inf\n",
    "    \n",
    "    parameters\n",
    "    ------\n",
    "    mcm: an instance of McCallModel\n",
    "    \n",
    "    returns\n",
    "    ------\n",
    "    w_bar: scalar\n",
    "        the researvation wage\n",
    "        \n",
    "    \"\"\"\n",
    "    \n",
    "    V, U = solve_mccall_model(mcm)\n",
    "    w_idx = np.searchsorted(V-U, 0)\n",
    "    \n",
    "    if w_idx ==len(V) +1:\n",
    "        w_bar = np.inf\n",
    "    else:\n",
    "        w_bar = mcm.w_vec[w_idx]\n",
    "        \n",
    "    return w_bar"
   ]
  },
  {
   "cell_type": "code",
   "execution_count": 13,
   "metadata": {
    "collapsed": false
   },
   "outputs": [
    {
     "data": {
      "text/plain": [
       "11.525423728813559"
      ]
     },
     "execution_count": 13,
     "metadata": {},
     "output_type": "execute_result"
    }
   ],
   "source": [
    "compute_reservation_wage(mcm)"
   ]
  },
  {
   "cell_type": "code",
   "execution_count": 14,
   "metadata": {
    "collapsed": false
   },
   "outputs": [
    {
     "data": {
      "image/png": "[encoded data removed]",
      "text/plain": [
       "<matplotlib.figure.Figure at 0x8eeab10>"
      ]
     },
     "metadata": {},
     "output_type": "display_data"
    }
   ],
   "source": [
    "grid_size = 25\n",
    "gamma_vals = np.linspace(0.05, 0.95, grid_size)\n",
    "w_bar_vals = np.empty_like(gamma_vals)\n",
    "\n",
    "fig, ax = plt.subplots(figsize=(9, 6))\n",
    "\n",
    "for i, gamma in enumerate(gamma_vals):\n",
    "    mcm.gamma = gamma\n",
    "    w_bar = compute_reservation_wage(mcm)\n",
    "    w_bar_vals[i] = w_bar\n",
    "    \n",
    "ax.set_xlabel('job offer rate')\n",
    "ax.set_ylabel('reservation wage')\n",
    "ax.set_xlim(gamma_vals.min(), gamma_vals.max())\n",
    "txt=r'$\\bar w$ as a function of $\\gamma$'\n",
    "ax.plot(gamma_vals, w_bar_vals, 'b-', lw=2, alpha=0.7, label=txt)\n",
    "ax.legend(loc='upper left')\n",
    "ax.grid()\n",
    "\n",
    "plt.show()"
   ]
  },
  {
   "cell_type": "code",
   "execution_count": null,
   "metadata": {
    "collapsed": true
   },
   "outputs": [],
   "source": []
  }
 ],
 "metadata": {
  "kernelspec": {
   "display_name": "Python 3",
   "language": "python",
   "name": "python3"
  },
  "language_info": {
   "codemirror_mode": {
    "name": "ipython",
    "version": 3
   },
   "file_extension": ".py",
   "mimetype": "text/x-python",
   "name": "python",
   "nbconvert_exporter": "python",
   "pygments_lexer": "ipython3",
   "version": "3.5.1"
  }
 },
 "nbformat": 4,
 "nbformat_minor": 0
}
