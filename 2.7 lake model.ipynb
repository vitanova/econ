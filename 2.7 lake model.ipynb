{
 "cells": [
  {
   "cell_type": "code",
   "execution_count": 3,
   "metadata": {
    "collapsed": false
   },
   "outputs": [],
   "source": [
    "\"\"\"\n",
    "\n",
    "provides a class that simulates the dynamics of unemployment and employment\n",
    "in the lake model\n",
    "\n",
    "\"\"\"\n",
    "\n",
    "import numpy as np\n",
    "\n",
    "class LakeModel:\n",
    "    r\"\"\"\n",
    "    solve the lake model and computes dynamics of unemployment stocks and\n",
    "    rates.\n",
    "    \n",
    "    parameters\n",
    "    ------\n",
    "    lmda: scalar\n",
    "        the job finding rate for currently unemployed workers\n",
    "    alpha: scalar\n",
    "        the dismissal rate for currently enployed workers\n",
    "    b: scalar\n",
    "        entry rate into the labor force\n",
    "    d: scalar\n",
    "        exit rate from the labor force\n",
    "    \n",
    "    \"\"\"\n",
    "    def __init__(self, lmda=0.283, alpha=0.013, b=0.0124, d=0.00822):\n",
    "        self._lmda = lmda\n",
    "        self._alpha = alpha\n",
    "        self._b = b\n",
    "        self._d = d\n",
    "        \n",
    "        self.compute_derived_values()\n",
    "        \n",
    "    def compute_derived_values(self):\n",
    "        #unpack names to simplify expression\n",
    "        lmda, alpha, b, d = self._lmda, self._alpha, self._b, self._d\n",
    "        \n",
    "        self._g = b - d\n",
    "        self._A = np.array([[(1-d) * (1-alpha), (1-d) * lmda],\n",
    "                           [(1-d) * alpha +b, (1-lmda) * (1-d) + b]])\n",
    "        \n",
    "        self._A_hat = self._A / (1 + self._g)\n",
    "        \n",
    "    @property\n",
    "    def g(self):\n",
    "        return self._g\n",
    "    \n",
    "    @property\n",
    "    def A(self):\n",
    "        return self._A\n",
    "    \n",
    "    @property\n",
    "    def A_hat(self):\n",
    "        return self._A_hat\n",
    "    \n",
    "    @property\n",
    "    def lmda(self):\n",
    "        return self._lmda\n",
    "    \n",
    "    @lmda.setter\n",
    "    def lmda(self, new_value):\n",
    "        self._lmda = new_value\n",
    "        self.compute_derived_values()\n",
    "        \n",
    "    @property\n",
    "    def alpha(self):\n",
    "        return self._alpha\n",
    "    \n",
    "    @alpha.setter\n",
    "    def alpha(self, new_value):\n",
    "        self._alpha  = new_value\n",
    "        self.compute_derived_values()\n",
    "        \n",
    "    @property\n",
    "    def b(self):\n",
    "        return self._b\n",
    "    \n",
    "    @b.setter\n",
    "    def b(self, new_value):\n",
    "        self._b = new_value\n",
    "        self.compute_derived_values()\n",
    "        \n",
    "    @property\n",
    "    def d(self):\n",
    "        return self._d\n",
    "    \n",
    "    @d.setter\n",
    "    def d(self, new_value):\n",
    "        self._d = new_value\n",
    "        self.compute_derived_values()\n",
    "        \n",
    "    \n",
    "    def rate_steady_state(self, tol=1e-6):\n",
    "        r\"\"\"\n",
    "        finds the steady state of the system :math:'x_{t+1} = \\hat A x_{t}'\n",
    "        \n",
    "        returns\n",
    "        ------\n",
    "        xbar: steady state vector of employment and unemployment rates\n",
    "        \"\"\"\n",
    "        \n",
    "        x = 0.5 * np.ones(2)\n",
    "        error = tol + 1\n",
    "        while error > tol:\n",
    "            new_x = self.A_hat @ x\n",
    "            error = np.max(np.abs(new_x - x))\n",
    "            x = new_x\n",
    "            \n",
    "        return x\n",
    "    \n",
    "    def simulate_stock_path(self, X0, T):\n",
    "        r\"\"\"\n",
    "        simulates the sequence of employment and unemployment stocks\n",
    "        \n",
    "        parameters\n",
    "        ------\n",
    "        X0: array\n",
    "            contains initial values (E0, U0)\n",
    "        T: int\n",
    "            number of periods to simulate\n",
    "            \n",
    "        returns\n",
    "        ------\n",
    "        X: iterator\n",
    "            contains sequence of employment and unemployment stocks\n",
    "            \n",
    "        \"\"\"\n",
    "        \n",
    "        X = np.atleast_1d(X0) #recast as array just in case\n",
    "        for t in range(T):\n",
    "            yield X\n",
    "            X = self.A @ X\n",
    "            \n",
    "    def simulate_rate_path(self, x0, T):\n",
    "        r\"\"\"\n",
    "        simulates the sequence of employment and unemployment rates\n",
    "        \n",
    "        parameters\n",
    "        -----\n",
    "        x0: array\n",
    "            contains initial values (e0, u0)\n",
    "        T: int\n",
    "            number of periods to simulate\n",
    "            \n",
    "        returns\n",
    "        ------\n",
    "        x: iterator\n",
    "            contains sequence of employment and unemployment rates\n",
    "            \n",
    "        \"\"\"\n",
    "        x = np. atleast_1d(x0) # recast as array just in case\n",
    "        for t in range(T):\n",
    "            yield x\n",
    "            X = self.A_hat @ x"
   ]
  },
  {
   "cell_type": "code",
   "execution_count": 4,
   "metadata": {
    "collapsed": true
   },
   "outputs": [],
   "source": [
    "lm =LakeModel()"
   ]
  },
  {
   "cell_type": "code",
   "execution_count": 5,
   "metadata": {
    "collapsed": false
   },
   "outputs": [
    {
     "data": {
      "text/plain": [
       "0.013"
      ]
     },
     "execution_count": 5,
     "metadata": {},
     "output_type": "execute_result"
    }
   ],
   "source": [
    "lm.alpha"
   ]
  },
  {
   "cell_type": "code",
   "execution_count": 6,
   "metadata": {
    "collapsed": false
   },
   "outputs": [
    {
     "data": {
      "text/plain": [
       "array([[ 0.97888686,  0.28067374],\n",
       "       [ 0.02529314,  0.72350626]])"
      ]
     },
     "execution_count": 6,
     "metadata": {},
     "output_type": "execute_result"
    }
   ],
   "source": [
    "lm.A"
   ]
  },
  {
   "cell_type": "code",
   "execution_count": 7,
   "metadata": {
    "collapsed": true
   },
   "outputs": [],
   "source": [
    "lm.alpha = 2"
   ]
  },
  {
   "cell_type": "code",
   "execution_count": 8,
   "metadata": {
    "collapsed": false
   },
   "outputs": [
    {
     "data": {
      "text/plain": [
       "array([[-0.99178   ,  0.28067374],\n",
       "       [ 1.99596   ,  0.72350626]])"
      ]
     },
     "execution_count": 8,
     "metadata": {},
     "output_type": "execute_result"
    }
   ],
   "source": [
    "lm.A"
   ]
  }
 ],
 "metadata": {
  "kernelspec": {
   "display_name": "Python 3",
   "language": "python",
   "name": "python3"
  },
  "language_info": {
   "codemirror_mode": {
    "name": "ipython",
    "version": 3
   },
   "file_extension": ".py",
   "mimetype": "text/x-python",
   "name": "python",
   "nbconvert_exporter": "python",
   "pygments_lexer": "ipython3",
   "version": "3.5.1"
  }
 },
 "nbformat": 4,
 "nbformat_minor": 0
}
