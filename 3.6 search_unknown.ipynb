{
 "cells": [
  {
   "cell_type": "code",
   "execution_count": 5,
   "metadata": {
    "collapsed": false
   },
   "outputs": [],
   "source": [
    "from textwrap import dedent\n",
    "from scipy.interpolate import LinearNDInterpolator\n",
    "from scipy.integrate import fixed_quad\n",
    "from scipy.stats import beta as beta_distribution\n",
    "from scipy import interp\n",
    "from numpy import maximum as npmax\n",
    "import numpy as np\n",
    "\n",
    "class SearchProblem(object):\n",
    "    \"\"\"\n",
    "    a class to store a given parameterization of the \"offer distribution\n",
    "    unknown\" model\n",
    "    \"\"\"\n",
    "    \n",
    "    def __init__(self, beta=0.95, c=0.6, F_a=1, F_b=1, G_a=3, G_b=1.2,\n",
    "                w_max=2, w_grid_size=40, pi_grid_size=40):\n",
    "        \n",
    "        self.beta, self.c, self.w_max=beta, c, w_max\n",
    "        self.F=beta_distribution(F_a, F_b, scale=w_max)\n",
    "        self.G=beta_distribution(G_a, G_b, scale=w_max)\n",
    "        self.f, self.g=self.F.pdf, self.G.pdf\n",
    "        self.pi_min, self.pi_max=1e-3, 1-1e-3\n",
    "        self.w_grid=np.linspace(0, w_max, w_grid_size)\n",
    "        self.pi_grid=np.linspace(self.pi_min, self.pi_max, pi_grid_size)\n",
    "        x, y=np.meshgrid(self.w_grid, self.pi_grid)\n",
    "        self.grid_points=np.column_stack((x.ravel(1), y.ravel(1)))\n",
    "        \n",
    "    def __repr__(self):\n",
    "        m=\"SearchProblem(beta={b}, c={c}, F_a={fa}, F_b={fb}, G_a={ga}),\"\n",
    "        m+=\"G_b={gb}, w_max={wu}, w_grid_size={wgs}, pi_grid_size={pgs}\"\n",
    "        fa, fb=self.F.args\n",
    "        ga, gb=self.G.args\n",
    "        return m.format(b=self.beta, c=self.c, fa=fa, fb=fb, ga=ga,\n",
    "                       gb=gb, wu=self.w_grid.max(), \n",
    "                       wgs=self.w_grid.size, pgs=self.pi_grid.size)\n",
    "    \n",
    "    def __str__(self):\n",
    "        m=\"\"\"\\\n",
    "        SearchProblem(offer distribution unknown):\n",
    "            -beta(discount factor): {b:g}\n",
    "            -c(unemployment compensation): {c}\n",
    "            -F(distribution F): Beta({fa}, {fb:g})\n",
    "            -G(distribution G): Beta({ga}, {gb:g})\n",
    "            -w bounds (bounds for wage offers): ({wl:g}, {wu:g})\n",
    "            -w grid size (number of points in grid for wage): {wgs}\n",
    "            -pi bounds (bounds for probability of dist f): ({pl:g}, {pu:g})\n",
    "            -pi grid size (number of points in grid for pi): {pgs}\n",
    "        \"\"\"\n",
    "        fa, fb=self.F.args\n",
    "        ga, gb=self.G.args\n",
    "        return dedent(m.format(b=self.beta, c=self.c, fa=fa, fb=fb, ga=ga,\n",
    "                              gb=gb,\n",
    "                              wl=self.w_grid.min(), wu=self.w_grid.max(),\n",
    "                              wgs=self.w_grid.size,\n",
    "                              pl=self.pi_grid.min(), pu=self.pi_grid.max(),\n",
    "                              pgs=self.pi_grid.size))\n",
    "    \n",
    "    def q(self, w, pi):\n",
    "        \"\"\"\n",
    "        updates pi using bayes' rule and the current wage observation w.\n",
    "        \n",
    "        returns\n",
    "        ----------\n",
    "        \n",
    "            new_pi: scalar(float)\n",
    "                the updated probability\n",
    "                \n",
    "        \"\"\"\n",
    "        new_pi=1.0/(1+((1-pi)*self.g(w))/(pi*self.f(w)))\n",
    "        \n",
    "        #return new_pi when in [pi_min, pi_max] and else end points\n",
    "        new_pi=np.maximum(np.minimum(new_pi, self.pi_max), self.pi_min)\n",
    "        \n",
    "        return new_pi\n",
    "    \n",
    "    def res_wage_operator(self, phi):\n",
    "        \"\"\"\n",
    "        \n",
    "        updates the reservation wage function guess phi via the operator\n",
    "        Q.\n",
    "        \n",
    "        parameters\n",
    "        ----------\n",
    "        phi: array_like(float, ndim=1, length=len(pi_grid))\n",
    "            this is reservation wage guess\n",
    "            \n",
    "        returns\n",
    "        ---------\n",
    "        new_phi: array_like(float, ndim=1, length=len(pi_grid))\n",
    "            the updated reservation wage guess.\n",
    "            \n",
    "        \"\"\"\n",
    "        #==simplify names==#\n",
    "        beta, c, f, g, q=self.beta, self.c, self.f, self.g, self.q\n",
    "        #==turn phi into a function==#\n",
    "        phi_f=lambda p: interp(p, self.pi_grid, phi)\n",
    "        \n",
    "        new_phi=np.empty(len(phi))\n",
    "        for i, pi in enumerate(self.pi_grid):\n",
    "            def integrand(x):\n",
    "                \"integral expression on right-hand side of operator\"\n",
    "                return npmax(x, phi_f(q(x, pi)))*(pi*f(x)+(1-pi)*g(x))\n",
    "            integral, error=fixed_quad(integrand, 0, self.w_max)\n",
    "            new_phi[i]=(1-beta)*c +beta*integral\n",
    "            \n",
    "        return new_phi"
   ]
  },
  {
   "cell_type": "code",
   "execution_count": 6,
   "metadata": {
    "collapsed": false,
    "scrolled": false
   },
   "outputs": [
    {
     "name": "stdout",
     "output_type": "stream",
     "text": [
      "Iteration    Distance       Elapsed (seconds)\n",
      "---------------------------------------------\n",
      "5            2.829e-02      2.104e-01         \n",
      "10           5.174e-03      4.256e-01         \n",
      "15           9.652e-04      6.414e-01         \n"
     ]
    },
    {
     "data": {
      "image/png": "[encoded data removed]",
      "text/plain": [
       "<matplotlib.figure.Figure at 0x8128d70>"
      ]
     },
     "metadata": {},
     "output_type": "display_data"
    }
   ],
   "source": [
    "%matplotlib inline\n",
    "import matplotlib.pyplot as plt\n",
    "from quantecon import compute_fixed_point\n",
    "\n",
    "sp=SearchProblem(pi_grid_size=50)\n",
    "\n",
    "phi_init=np.ones(len(sp.pi_grid))\n",
    "w_bar=compute_fixed_point(sp.res_wage_operator, phi_init)\n",
    "\n",
    "fig, ax=plt.subplots(figsize=(9, 7))\n",
    "ax.plot(sp.pi_grid, w_bar, lw=2, color='black')\n",
    "ax.set_ylim(0, 2)\n",
    "ax.grid(axis='x', lw=0.25, linestyle='--', color='0.25')\n",
    "ax.grid(axis='y', lw=0.25, linestyle='--', color='0.25')\n",
    "ax.fill_between(sp.pi_grid, 0, w_bar, color='blue', alpha=0.15)\n",
    "ax.fill_between(sp.pi_grid, w_bar, 2, color='green', alpha=0.15)\n",
    "ax.text(0.42, 1.2, 'reject')\n",
    "ax.text(0.7, 1.8, 'accept')\n",
    "plt.show()"
   ]
  },
  {
   "cell_type": "code",
   "execution_count": null,
   "metadata": {
    "collapsed": true
   },
   "outputs": [],
   "source": []
  }
 ],
 "metadata": {
  "kernelspec": {
   "display_name": "Python 3",
   "language": "python",
   "name": "python3"
  },
  "language_info": {
   "codemirror_mode": {
    "name": "ipython",
    "version": 3
   },
   "file_extension": ".py",
   "mimetype": "text/x-python",
   "name": "python",
   "nbconvert_exporter": "python",
   "pygments_lexer": "ipython3",
   "version": "3.5.1"
  }
 },
 "nbformat": 4,
 "nbformat_minor": 0
}
